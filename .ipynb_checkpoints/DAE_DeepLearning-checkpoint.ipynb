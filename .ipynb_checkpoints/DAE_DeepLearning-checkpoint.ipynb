{
 "cells": [
  {
   "cell_type": "markdown",
   "metadata": {
    "cell_id": "157e29bb1a1c47f0af722647f4bb3abe",
    "deepnote_cell_type": "markdown",
    "tags": []
   },
   "source": [
    "<center>\n",
    "\n",
    "<img src=\"https://drive.google.com/uc?id=1f1gGVI-rxcHjA90WEGNvvtSXF1pAxQwg\" alt=\"Fasilkom UI\" width=\"300\"/>\n",
    "\n",
    "CSGE603130 • Kecerdasan Artifisial dan Sains Data Dasar\n",
    "\n",
    "Semester Ganjil 2022/2023\n",
    "\n",
    "Fakultas Ilmu Komputer, Universitas Indonesia\n",
    "\n",
    "## *Proyek Akhir KASDD - Daegu Apartement*\n",
    "</center>"
   ]
  },
  {
   "cell_type": "markdown",
   "metadata": {
    "cell_id": "190cca8c316e4ac9be7bd104d90874aa",
    "deepnote_cell_type": "markdown",
    "tags": []
   },
   "source": [
    "## Informasi Pengerjaan\n",
    "**Anggota Kelompok (Nama - NPM - Kelas)**\n",
    "1. Charles Pramudana - 2006596491 - KASDD A\n",
    "2. Cynthia Philander - 2006597292 - KASDD A\n",
    "3. Jeremy Christianto - 2006462885 - KASDD A\n",
    "4. Kelvin Erlangga - 2006596964 - KASDD A\n",
    "\n",
    "---\n",
    "<br/>\n",
    "\n",
    "**Referensi**\n",
    "1. https://towardsdatascience.com/clearly-explained-pearson-v-s-spearman-correlation-coefficient-ada2f473b8#:~:text=One%20more%20difference%20is%20that,apply%20Spearman%20and%20not%20Pearson.\n",
    "2. https://machinelearningmastery.com/feature-selection-for-regression-data/"
   ]
  },
  {
   "cell_type": "markdown",
   "metadata": {
    "cell_id": "491bfaf8efe348ceb114456d7724d138",
    "deepnote_cell_type": "markdown",
    "tags": []
   },
   "source": [
    "## Langkah Pengerjaan\n",
    "1. Mengimport library yang dibutuhkan\n",
    "2. Membaca dan Memahami Datasets\n",
    "3. Data Preprocessing\n",
    "    - Menangani missing value\n",
    "    - Menangani duplikasi data\n",
    "    - Menangani outlier\n",
    "    - Encode fitur kategorikal\n",
    "    - Normalisasi data\n",
    "    \n",
    "4. Exploratory Data Analysis\n",
    "    - Fasilitas yang Paling Berpengaruh terhadap Harga Apartemen\n",
    "    - Perbedaan Harga Apartemen yang Dibangun Setelah dan Sebelum Tahun 2000\n",
    "    - Waktu Penjualan yang paling tinggi dibandingkan waktu lainnya\n",
    "    - Tren perubahan harga penjualan apartemen tahunan\n",
    "    - Korelasi Banyak Fasilitas dan Instansi Pendidikan Terdekat terhadap Apartemen Family Friendly\n",
    "    - Distribusi Biaya Penjualan Apartemen per Sqft Untuk Tiap Tipe Hallway\n",
    "\n",
    "5. Pembuatan Model\n",
    "    - Model Klasifikasi\n",
    "    - Model Regresi\n",
    "    - Model Clustering"
   ]
  },
  {
   "cell_type": "code",
   "execution_count": null,
   "metadata": {},
   "outputs": [],
   "source": [
    "!pip uninstall sweetviz"
   ]
  },
  {
   "cell_type": "code",
   "execution_count": null,
   "metadata": {
    "cell_id": "4f4c9f6d1bea4e60b96a2911f143b3cd",
    "deepnote_cell_type": "code",
    "deepnote_to_be_reexecuted": false,
    "execution_millis": 2089,
    "execution_start": 1672666650239,
    "source_hash": "71050409",
    "tags": []
   },
   "outputs": [],
   "source": [
    "# For data manipulation\n",
    "import pandas as pd\n",
    "import numpy as np\n",
    "\n",
    "# For data visualization\n",
    "import matplotlib.pyplot as plt\n",
    "import matplotlib.font_manager\n",
    "import seaborn as sns\n",
    "import plotly.express as px\n",
    "\n",
    "# For model selection\n",
    "from sklearn.linear_model import LinearRegression, Lasso, Ridge\n",
    "from sklearn.preprocessing import LabelEncoder\n",
    "from sklearn.feature_selection import SelectKBest\n",
    "from sklearn.feature_selection import f_classif\n",
    "from sklearn.neighbors import KNeighborsClassifier\n",
    "from sklearn.naive_bayes import GaussianNB\n",
    "from sklearn.neural_network import MLPClassifier\n",
    "from collections import Counter\n",
    "from matplotlib import pyplot\n",
    "from numpy import where\n",
    "from imblearn.over_sampling import SMOTE, BorderlineSMOTE, SVMSMOTE, ADASYN\n",
    "from imblearn.under_sampling import RandomUnderSampler, NearMiss\n",
    "import scipy.cluster.hierarchy as shc\n",
    "from sklearn.cluster import AgglomerativeClustering\n",
    "\n",
    "# For data processing\n",
    "from sklearn.model_selection import train_test_split, StratifiedKFold, RepeatedKFold, GridSearchCV, cross_val_score\n",
    "from sklearn.feature_selection import SelectKBest, mutual_info_regression, f_regression\n",
    "from sklearn.pipeline import Pipeline\n",
    "from sklearn.preprocessing import MinMaxScaler\n",
    "\n",
    "\n",
    "# For model evaluation\n",
    "from sklearn.metrics import mean_absolute_error, mean_squared_error, r2_score\n",
    "from sklearn.model_selection import KFold"
   ]
  },
  {
   "cell_type": "markdown",
   "metadata": {
    "cell_id": "345fd81b536c4cd2a06bf8acea454457",
    "deepnote_cell_type": "markdown",
    "tags": []
   },
   "source": [
    "## Membaca dan Memahami Datasets"
   ]
  },
  {
   "cell_type": "markdown",
   "metadata": {
    "cell_id": "1a81f4d27004489b8dd19d3ec66e57c5",
    "deepnote_cell_type": "markdown",
    "tags": []
   },
   "source": [
    "### Membaca Datasets"
   ]
  },
  {
   "cell_type": "code",
   "execution_count": null,
   "metadata": {
    "cell_id": "c63c0dc73a5e4d4390f6b82c007b1a7a",
    "deepnote_cell_type": "code",
    "deepnote_table_loading": false,
    "deepnote_table_state": {
     "filters": [],
     "pageIndex": 0,
     "pageSize": 10,
     "sortBy": []
    },
    "deepnote_to_be_reexecuted": false,
    "execution_millis": 187,
    "execution_start": 1672666652333,
    "source_hash": "fb489ca1",
    "tags": []
   },
   "outputs": [],
   "source": [
    "daegu_df = pd.read_csv(\"06_DaeguApartments.csv\")\n",
    "daegu_df"
   ]
  },
  {
   "cell_type": "markdown",
   "metadata": {
    "cell_id": "bf6f5eef50814955a7b0975b0202719e",
    "deepnote_cell_type": "markdown",
    "tags": []
   },
   "source": [
    "### Memahami Datasets"
   ]
  },
  {
   "cell_type": "code",
   "execution_count": null,
   "metadata": {
    "cell_id": "c2cffcd4869a4f31b236df93604dc39e",
    "deepnote_cell_type": "code",
    "deepnote_to_be_reexecuted": false,
    "execution_millis": 5,
    "execution_start": 1672666652522,
    "source_hash": "3d32b686",
    "tags": []
   },
   "outputs": [],
   "source": [
    "daegu_df.info()"
   ]
  },
  {
   "cell_type": "code",
   "execution_count": null,
   "metadata": {
    "cell_id": "cdd0c968af4846cab11d08060cc6887a",
    "deepnote_cell_type": "code",
    "deepnote_to_be_reexecuted": false,
    "execution_millis": 225,
    "execution_start": 1672666652572,
    "source_hash": "f219cb41",
    "tags": []
   },
   "outputs": [],
   "source": [
    "daegu_df.describe()"
   ]
  },
  {
   "cell_type": "markdown",
   "metadata": {
    "cell_id": "01d378edd97d40b0af2eebbeb5b26c04",
    "deepnote_cell_type": "markdown",
    "tags": []
   },
   "source": [
    "## Data Preprocessing"
   ]
  },
  {
   "cell_type": "markdown",
   "metadata": {
    "cell_id": "0bd14d332bfc45fe91cb8b8c9e60332b",
    "deepnote_cell_type": "markdown",
    "tags": []
   },
   "source": [
    "### Handling Missing Values"
   ]
  },
  {
   "cell_type": "code",
   "execution_count": null,
   "metadata": {
    "allow_embed": false,
    "cell_id": "384c5e50691e4239be3edca4915df35f",
    "deepnote_cell_type": "code",
    "deepnote_to_be_reexecuted": false,
    "execution_millis": 20,
    "execution_start": 1672666652801,
    "source_hash": "8ed4ded4",
    "tags": []
   },
   "outputs": [],
   "source": [
    "# Missing values\n",
    "\n",
    "# Jumlah missing values\n",
    "def cek_null(df):\n",
    "    col_na = df.isnull().sum().sort_values(ascending=True)\n",
    "    percent = col_na / len(df)\n",
    "    \n",
    "    missing_data = pd.concat([col_na, percent], axis=1, keys=['Total', 'Percent'])\n",
    "    \n",
    "    if (missing_data[missing_data['Total'] > 0].shape[0] == 0):\n",
    "        print(\"Tidak ditemukan missing value pada dataset\")\n",
    "        \n",
    "    else:\n",
    "        print(missing_data[missing_data['Total'] > 0])\n",
    "print(\"Missing values sebelum ditangani: \")\n",
    "cek_null(daegu_df)\n",
    "print()\n",
    "\n",
    "# Menangani missing values\n",
    "# Untuk atribute \"FamilyFriendly\", null value akan dihilangkan karena hanya 2% data dan karena Family Friendly adalah target variabel sehingga akan mempengaruhi hasil prediksi jika dilakukan imputasi\n",
    "daegu_df.dropna(inplace=True)\n",
    "print(\"Missing values sesudah ditangani: \", end=\"\")\n",
    "cek_null(daegu_df)"
   ]
  },
  {
   "cell_type": "markdown",
   "metadata": {
    "cell_id": "86c3f7f5bd0d4ed9a16bfb1072e07037",
    "deepnote_cell_type": "markdown",
    "tags": []
   },
   "source": [
    "### Handling Duplicate Values"
   ]
  },
  {
   "cell_type": "code",
   "execution_count": null,
   "metadata": {
    "allow_embed": false,
    "cell_id": "4f4065a9cb204879bb5b1f05decda6aa",
    "deepnote_cell_type": "code",
    "deepnote_to_be_reexecuted": false,
    "execution_millis": 68,
    "execution_start": 1672666652820,
    "source_hash": "c9505980",
    "tags": []
   },
   "outputs": [],
   "source": [
    "# Duplikasi data\n",
    "\n",
    "# Jumlah duplikasi data\n",
    "print(\"Jumlah duplikasi data sebelum ditangani: \" + str(daegu_df.duplicated().sum()))\n",
    "print()\n",
    "\n",
    "# Menangani duplikasi data\n",
    "daegu_df = daegu_df.drop_duplicates(inplace = False)\n",
    "print(\"Jumlah duplikasi data sesudah ditangani: \" + str(daegu_df.duplicated().sum()))"
   ]
  },
  {
   "cell_type": "markdown",
   "metadata": {
    "cell_id": "4349978c3a6b47f69c27e6d2b1ebe5ab",
    "deepnote_cell_type": "markdown",
    "tags": []
   },
   "source": [
    "### Handling Outliers"
   ]
  },
  {
   "cell_type": "code",
   "execution_count": null,
   "metadata": {
    "cell_id": "011f71aaaad940e1aa7f94f8f7d432f0",
    "deepnote_cell_type": "code",
    "deepnote_to_be_reexecuted": false,
    "execution_millis": 1,
    "execution_start": 1672666652911,
    "source_hash": "73093f89",
    "tags": []
   },
   "outputs": [],
   "source": [
    "cat_cols = [\"HallwayType\", \"HeatingType\", \"AptManageType\", \"TimeToBusStop\", \"TimeToSubway\", \"SubwayStation\", \"FamilyFriendly\"]\n",
    "num_cols = [i for i in daegu_df.columns if i not in cat_cols]"
   ]
  },
  {
   "cell_type": "code",
   "execution_count": null,
   "metadata": {
    "allow_embed": false,
    "cell_id": "c7733f22a3a3457ca0a146b9ec9e5c2d",
    "deepnote_cell_type": "code",
    "deepnote_to_be_reexecuted": false,
    "execution_millis": 2,
    "execution_start": 1672666652912,
    "source_hash": "cf851ecb",
    "tags": []
   },
   "outputs": [],
   "source": [
    "# Outlier\n",
    "\n",
    "# Melihat jumlah outliers pada data menggunakan IQR\n",
    "# Menghitung quartil 1 dan 3.\n",
    "Q1 = daegu_df[num_cols].quantile(0.25)\n",
    "Q3 = daegu_df[num_cols].quantile(0.75)\n",
    "\n",
    "# Menghitung RUB dan RLB.\n",
    "IQR = Q3 - Q1\n",
    "lower_limit = Q1 - 1.5*IQR\n",
    "upper_limit = Q3 + 1.5*IQR\n",
    "\n",
    "# Menampilkan banyaknya outlier pada atribut.\n",
    "outliers = (daegu_df[num_cols] < lower_limit) | (daegu_df[num_cols] > upper_limit)\n",
    "print (\"Outlier pada tiap atribut sebelum ditangani:\")\n",
    "print(outliers.sum())"
   ]
  },
  {
   "cell_type": "code",
   "execution_count": null,
   "metadata": {
    "allow_embed": false,
    "cell_id": "042d31b383f442f88656267fe9da7b96",
    "deepnote_cell_type": "code",
    "deepnote_to_be_reexecuted": false,
    "execution_millis": 5,
    "execution_start": 1672666652913,
    "source_hash": "8e57cae1",
    "tags": []
   },
   "outputs": [],
   "source": [
    "# # Menangani outlier dengan mengganti outlier dengan median\n",
    "# print(\"Outlier pada tiap atribut sesudah ditangani:\")\n",
    "# for col in daegu_df.select_dtypes(np.number).drop(\"FamilyFriendly\", axis = 1).columns:\n",
    "#     q3 = daegu_df[col].quantile(0.75)\n",
    "#     q1 = daegu_df[col].quantile(0.25)\n",
    "#     iqr = q3 - q1\n",
    "#     lower_bound = q1 - (1.5 * iqr) \n",
    "#     upper_bound = q3 + (1.5 * iqr)\n",
    "    \n",
    "#     median = daegu_df.loc[(daegu_df[col] >= lower_bound)&(daegu_df[col] <= upper_bound), col].median()\n",
    "#     daegu_df[col] = np.where((daegu_df[col] < lower_bound)|(daegu_df[col] > upper_bound), median, daegu_df[col])\n",
    "\n",
    "#     # Menghitung jumlah outlier setelah ditangani\n",
    "#     outlier_atas = daegu_df.loc[daegu_df[col] > upper_bound, col].count()\n",
    "#     outlier_bawah = daegu_df.loc[daegu_df[col] < lower_bound, col].count()\n",
    "#     print(f\"{col}:  \" + str(outlier_atas+outlier_bawah))"
   ]
  },
  {
   "cell_type": "code",
   "execution_count": null,
   "metadata": {
    "cell_id": "93a0b415ab3249269711a1906e36557d",
    "deepnote_cell_type": "code",
    "deepnote_to_be_reexecuted": false,
    "execution_millis": 1,
    "execution_start": 1672666652919,
    "source_hash": "8711370",
    "tags": []
   },
   "outputs": [],
   "source": [
    "# Copy df sebelum encoding untuk EDA\n",
    "temp_clean = daegu_df.copy()"
   ]
  },
  {
   "cell_type": "markdown",
   "metadata": {
    "cell_id": "ccd4119055e749e4a71eb6bfbcd367a0",
    "deepnote_cell_type": "markdown",
    "tags": []
   },
   "source": [
    "### Encoding Categorical Variables"
   ]
  },
  {
   "cell_type": "code",
   "execution_count": null,
   "metadata": {
    "allow_embed": false,
    "cell_id": "af68e2626ef7492e9df71ff4c6c46330",
    "deepnote_cell_type": "code",
    "deepnote_to_be_reexecuted": false,
    "execution_millis": 196,
    "execution_start": 1672666652923,
    "source_hash": "1216dad0",
    "tags": []
   },
   "outputs": [],
   "source": [
    "# Melakukan one-hot encoding data kategorikal\n",
    "\n",
    "daegu_df = pd.get_dummies(daegu_df, drop_first=True)\n",
    "daegu_df.head()"
   ]
  },
  {
   "cell_type": "code",
   "execution_count": null,
   "metadata": {
    "allow_embed": false,
    "cell_id": "76b4bbce36d8478bb1bfe8f655bf3c4a",
    "deepnote_cell_type": "code",
    "deepnote_to_be_reexecuted": false,
    "execution_millis": 6,
    "execution_start": 1672666653120,
    "source_hash": "3d32b686",
    "tags": []
   },
   "outputs": [],
   "source": [
    "daegu_df.info()"
   ]
  },
  {
   "cell_type": "markdown",
   "metadata": {
    "cell_id": "4ae1aa3461ff4229bd58d694b29be5b7",
    "deepnote_cell_type": "markdown",
    "tags": []
   },
   "source": [
    "## Exploratory Data Analysis"
   ]
  },
  {
   "cell_type": "markdown",
   "metadata": {
    "cell_id": "327cf2f7b8784f0a8e3ce136c711fce8",
    "deepnote_cell_type": "markdown",
    "tags": []
   },
   "source": [
    "### Fasilitas yang Paling Berpengaruh terhadap Harga Apartemen"
   ]
  },
  {
   "cell_type": "markdown",
   "metadata": {
    "cell_id": "a08851a5adec4139be386a74f6c648f7",
    "deepnote_cell_type": "markdown",
    "tags": []
   },
   "source": [
    "> Fasilitas yang terdapat pada dataset mencakup fasilitas yang berada di dalam kompleks apartemen, yaitu fasilitas parkir dan elevator, serta fasilitas yang berada di dekat apartemen, seperti kantor publik, rumah sakit, pusat perbelanjaan, mal, dan fasilitas lainnya. Untuk mencari fasilitas yang paling berpengaruh terhadap harga apartemen, akan digunakan nilai korelasi sebagai acuan tingkat pengaruh suatu variabel terhadap harga apartemen. "
   ]
  },
  {
   "cell_type": "code",
   "execution_count": null,
   "metadata": {
    "cell_id": "e3217145f3be44c1904fa76afa066fe7",
    "deepnote_cell_type": "code",
    "deepnote_to_be_reexecuted": false,
    "execution_millis": 86,
    "execution_start": 1672666679037,
    "source_hash": "cd884a23",
    "tags": []
   },
   "outputs": [],
   "source": [
    "# Slicing dataframe untuk atribut fasilitas\n",
    "df_facilities = daegu_df.iloc[:, 6:8].join(daegu_df.iloc[:, 10:21].join(daegu_df[\"SalePrice\"]))\n",
    "df_facilities"
   ]
  },
  {
   "cell_type": "code",
   "execution_count": null,
   "metadata": {
    "cell_id": "381e750f28ca4990ab7a1ccb4ab7bcdf",
    "deepnote_cell_type": "code",
    "deepnote_to_be_reexecuted": false,
    "execution_millis": 1308,
    "execution_start": 1672666679129,
    "source_hash": "2b3b7b05",
    "tags": []
   },
   "outputs": [],
   "source": [
    "plt.subplots(figsize=(10,10))\n",
    "corr = df_facilities.corr()\n",
    "sns.heatmap(corr, cmap=\"YlGnBu\", annot=True)\n",
    "plt.title(\n",
    "    \"Korelasi Antar Fasilitas dan Nilai Jual\", \n",
    "    fontsize = 16,\n",
    ")"
   ]
  },
  {
   "cell_type": "code",
   "execution_count": null,
   "metadata": {
    "cell_id": "e54cf6173d984caf96e082da8b259053",
    "deepnote_cell_type": "code",
    "deepnote_to_be_reexecuted": false,
    "execution_millis": 64,
    "execution_start": 1672666680431,
    "source_hash": "1b55ef55",
    "tags": []
   },
   "outputs": [],
   "source": [
    "# correlation between Price\n",
    "print(\"Nilai korelasi pearson antara variabel fasilitas dengan harga jual:\")\n",
    "df_facilities.corr()['SalePrice']"
   ]
  },
  {
   "cell_type": "markdown",
   "metadata": {
    "cell_id": "7a96c549f3a64e96b1f691e44a3e07a4",
    "deepnote_cell_type": "markdown",
    "tags": []
   },
   "source": [
    "**Insights** <br/>\n",
    "> Berdasarkan correlation map antar variabel dan daftar nilai korelasi pearson variabel-variabel fasilitas dengan harga jual, variabel yang memiliki nilai korelasi tertinggi terhadap SalePrice adalah fasilitas parkir bertipe basement dengan nilai korelasi sebesar 0.51. Selain itu, fasilitas yang berada dekat dengan apartemen yang memiliki korelasi tertinggi adalah fasilitas kantor publik dan fasilitas lainnya dengan nilai korelasi sebesar -0.46 dan -0.44. <br>\n",
    "> Fasilitas sekolah tidak terlalu berpengaruh terhadap nilai jual dari suatu apartemen.<br>\n",
    "> Kesimpulan yang bisa didapatkan adalah bahwa jumlah fasilitas parkir bertipe basement berpengaruh secara positif atau berbanding lurus dengan harga jual apartemen, sedangkan jumlah fasilitas kantor publik dan fasilitas lainnya justru berbanding terbalik dengan harga jual apartemen."
   ]
  },
  {
   "cell_type": "markdown",
   "metadata": {
    "cell_id": "8d2e2b3c92b04c63a75fdc26e6b02c0d",
    "deepnote_cell_type": "markdown",
    "tags": []
   },
   "source": [
    "### Perbedaan Harga Apartemen yang Dibangun Setelah dan Sebelum Tahun 2000"
   ]
  },
  {
   "cell_type": "markdown",
   "metadata": {
    "cell_id": "17f1e3b846e6474abad70c06def281a6",
    "deepnote_cell_type": "markdown",
    "tags": []
   },
   "source": [
    "> Bar Chart dipilih karena memiliki fungsionalitas yang lebih baik dalam melakukan visualisasi data yang berbasis perbandingan antara dua variabel. Pada konteks EDA kali ini, variabel yang dimaksud adalah harga setelah tahun 2000 dan sebelum tahun 2000."
   ]
  },
  {
   "cell_type": "code",
   "execution_count": null,
   "metadata": {
    "cell_id": "bf0a1044ba7442cab852336453564d9b",
    "deepnote_cell_type": "code",
    "deepnote_to_be_reexecuted": false,
    "execution_millis": 3,
    "execution_start": 1672666680541,
    "source_hash": "d29576cf",
    "tags": []
   },
   "outputs": [],
   "source": [
    "# Copy SalePrice and YearBuilt columns from daegu df for EDA\n",
    "pr_yr_df = daegu_df[['SalePrice', 'YearBuilt']].copy()\n",
    "\n",
    "# Group Data By YearBuilt\n",
    "by_year_pr = pr_yr_df.groupby(pr_yr_df['YearBuilt'], as_index=False).mean()\n",
    "\n",
    "# Create YearCategory column to indicate whether the apartment was built before or after 2000\n",
    "by_year_pr['YearCategory'] = by_year_pr.apply(\n",
    "                                lambda x: \">= 2000\" if x['YearBuilt'] >= 2000 else \"< 2000\", \n",
    "                                axis=1\n",
    "                            )\n",
    "by_year_pr.head()"
   ]
  },
  {
   "cell_type": "code",
   "execution_count": null,
   "metadata": {
    "cell_id": "495755d8b5bb4d2ea1d2a040aa19bbd5",
    "deepnote_cell_type": "code",
    "deepnote_to_be_reexecuted": false,
    "execution_millis": 1204,
    "execution_start": 1672666680542,
    "source_hash": "b8da358f",
    "tags": []
   },
   "outputs": [],
   "source": [
    "# Plot bar chart for YearCategory Visualization\n",
    "fig = px.bar(\n",
    "    by_year_pr, \n",
    "    x=\"YearBuilt\", \n",
    "    y=\"SalePrice\", \n",
    "    color=\"YearCategory\",\n",
    "    title=\"Perbandingan Harga Apartemen Sebelum dan Sesudah Tahun 2000\")\n",
    "\n",
    "fig.update_layout({\n",
    "    \"paper_bgcolor\":'rgba(255,255,255,1)',\n",
    "    \"plot_bgcolor\":'rgba(255,255,255,1)'\n",
    "})\n",
    "\n",
    "fig.update_xaxes(showline=True, linewidth=1.5, linecolor='grey')\n",
    "fig.update_yaxes(showgrid=True, gridwidth=1, gridcolor='lightgrey')\n",
    "fig.update_yaxes(showline=True, linewidth=1.5, linecolor='grey')\n",
    "\n",
    "fig.show()"
   ]
  },
  {
   "cell_type": "code",
   "execution_count": null,
   "metadata": {
    "cell_id": "eda48752f1bc41629d3e0a957bf584a5",
    "deepnote_cell_type": "code",
    "deepnote_to_be_reexecuted": false,
    "execution_millis": 97,
    "execution_start": 1672666681792,
    "source_hash": "1963b37b",
    "tags": []
   },
   "outputs": [],
   "source": [
    "# Group Data by YearCategory\n",
    "temp_df = by_year_pr.drop(\"YearBuilt\", axis = 1)\n",
    "by_year_cat_pr = temp_df.groupby(temp_df['YearCategory'], as_index=False).mean()\n",
    "\n",
    "# Plot Bar chart for YearCategory Visualization based by YearCategory\n",
    "fig = px.bar(\n",
    "    by_year_cat_pr, \n",
    "    x=\"YearCategory\", \n",
    "    y=\"SalePrice\", \n",
    "    color=\"YearCategory\",\n",
    "    text_auto='s',\n",
    "    title=\"Perbandingan Harga Apartemen Sebelum dan Sesudah Tahun 2000\")\n",
    "    \n",
    "fig.update_layout({\n",
    "    \"paper_bgcolor\":'rgba(255,255,255,1)',\n",
    "    \"plot_bgcolor\":'rgba(255,255,255,1)'\n",
    "})\n",
    "\n",
    "fig.update_xaxes(showline=True, linewidth=1.5, linecolor='grey')\n",
    "fig.update_yaxes(showgrid=True, gridwidth=1, gridcolor='lightgrey')\n",
    "fig.update_yaxes(showline=True, linewidth=1.5, linecolor='grey')\n",
    "\n",
    "fig.show()"
   ]
  },
  {
   "cell_type": "markdown",
   "metadata": {
    "cell_id": "757d94009f4747f3b1fe2bff584e2177",
    "deepnote_cell_type": "markdown",
    "tags": []
   },
   "source": [
    "**Insights** <br/>\n",
    "> Berdasarkan grafik pertama, kita dapat melihat bahwa rata-rata harga apartemen yang dibangun sebelum tahun 2000 berada di kisaran paling rendah 71 ribu pada tahun 1980 hingga paling tinggi 181 ribu pada tahun 1986. Rentang rata-rata harga tersebut cenderung `lebih rendah` jika dibandingkan rentang rata-rata harga apartemen yang dibangun setelah tahun 2000 yang berada di kisaran paling rendah 134 ribu pada tahun 2003 hingga paling tinggi 348 ribu pada tahun 2015. Dari grafik pertama, kita juga dapat melihat bahwa semakin baru tahun pembuatan apartemen, harga penjualan juga cenderung meningkat. Untuk grafik kedua, kita dapat mengetahui generalisasi dari grafik pertama. Dapat dilihat bahwa rata-rata harga apartemen yang dibangun sebelum tahun 2000, yaitu sebesar 121 ribu, lebih rendah dibanding rata-rata harga apartemen yang dibangun setelah atau pada tahun 2000, yaitu sebesar 243 ribu. Namun, generalisasi ini belum tentu akurat karena data harga apartemen per tahun bangun yang dibangun setelah atau pada tahun 2000 lebih banyak, yakni ada 9 data, jika dibandingkan dengan data harga apartemen per tahun bangun yang dibangun sebelum tahun 2000, yakni hanya ada 7 data."
   ]
  },
  {
   "cell_type": "markdown",
   "metadata": {
    "cell_id": "ff11ed17e13b48a79d7b6fa1ede45d7a",
    "deepnote_cell_type": "markdown",
    "tags": []
   },
   "source": [
    "### Waktu Tertentu Ketika Penjualan Apartemen Lebih Tinggi Dari Biasanya"
   ]
  },
  {
   "cell_type": "code",
   "execution_count": null,
   "metadata": {
    "cell_id": "58e87071fc7148b58054b33ef00c5a96",
    "deepnote_cell_type": "code",
    "deepnote_to_be_reexecuted": false,
    "execution_millis": 16,
    "execution_start": 1672666681893,
    "source_hash": "790751ac",
    "tags": []
   },
   "outputs": [],
   "source": [
    "penjualan_tahun = daegu_df.groupby(['YrSold']).size().rename('penjualan').reset_index()\n",
    "data_penjualan_tahun = pd.DataFrame(penjualan_tahun)\n",
    "data_penjualan_tahun"
   ]
  },
  {
   "cell_type": "code",
   "execution_count": null,
   "metadata": {
    "cell_id": "964fc9fe17834486b844c8d8569232ea",
    "deepnote_cell_type": "code",
    "deepnote_to_be_reexecuted": false,
    "execution_millis": 105,
    "execution_start": 1672666681910,
    "source_hash": "39fe647d",
    "tags": []
   },
   "outputs": [],
   "source": [
    "fig = px.line(\n",
    "    penjualan_tahun, \n",
    "    x=\"YrSold\", \n",
    "    y=\"penjualan\", \n",
    "    title=\"Grafik penjualan apartemen per tahun\")\n",
    "fig.show()"
   ]
  },
  {
   "cell_type": "markdown",
   "metadata": {
    "cell_id": "8d30ea33b51b413b9d9a5dd6e0281e5c",
    "deepnote_cell_type": "text-cell-p",
    "formattedRanges": [],
    "is_collapsed": false,
    "tags": []
   },
   "source": [
    "Pertama, ketika kita lihat perbandingan jumlah penjualan pertahun, maka dapat dilihat bahwa pada tahun 2014 penjualan yang terjadi terlihat paling tinggi di banding tahun-tahun lainnya."
   ]
  },
  {
   "cell_type": "code",
   "execution_count": null,
   "metadata": {
    "cell_id": "db3156128b9a4eaab98eef71d007e16f",
    "deepnote_cell_type": "code",
    "deepnote_to_be_reexecuted": false,
    "execution_millis": 10,
    "execution_start": 1672666682015,
    "source_hash": "11ae67fc",
    "tags": []
   },
   "outputs": [],
   "source": [
    "penjualan_bulan = daegu_df.groupby(['MonthSold']).size().rename('penjualan').reset_index()\n",
    "data_penjualan_bulan = pd.DataFrame(penjualan_bulan)\n",
    "data_penjualan_bulan"
   ]
  },
  {
   "cell_type": "markdown",
   "metadata": {
    "cell_id": "7c352342f2f3443792dbda3b6d8b043e",
    "deepnote_cell_type": "text-cell-h3",
    "formattedRanges": [],
    "is_collapsed": false,
    "tags": []
   },
   "source": [
    "### "
   ]
  },
  {
   "cell_type": "code",
   "execution_count": null,
   "metadata": {
    "cell_id": "5d09e445f0e046ce9bee5d782e1cf287",
    "deepnote_cell_type": "code",
    "deepnote_to_be_reexecuted": false,
    "execution_millis": 46,
    "execution_start": 1672666682068,
    "source_hash": "6788ab0a",
    "tags": []
   },
   "outputs": [],
   "source": [
    "fig = px.line(\n",
    "    penjualan_bulan, \n",
    "    x=\"MonthSold\", \n",
    "    y=\"penjualan\", \n",
    "    title=\"Grafik penjualan apartemen per bulan\")\n",
    "fig.show()"
   ]
  },
  {
   "cell_type": "markdown",
   "metadata": {
    "cell_id": "77c49967ff8d4147adb527247b57c45d",
    "deepnote_cell_type": "text-cell-p",
    "formattedRanges": [],
    "is_collapsed": false,
    "tags": []
   },
   "source": [
    "Selanjutnya, apabila dilihat dari data penjualan yang terjadi pada setiap bulan, penjualan pada bulan Maret menyentuh data penjualan yang tertinggi dibandingkan bulan-bulan lainnya. "
   ]
  },
  {
   "cell_type": "code",
   "execution_count": null,
   "metadata": {
    "cell_id": "14420b6b67bb4b91904bd98e58ab876b",
    "deepnote_cell_type": "code",
    "deepnote_to_be_reexecuted": false,
    "execution_millis": 2,
    "execution_start": 1672666682157,
    "source_hash": "8ec9aec9",
    "tags": []
   },
   "outputs": [],
   "source": [
    "penjualan_tahun_bulan = daegu_df.groupby(['YrSold', 'MonthSold']).size().rename('penjualan').reset_index()\n",
    "data_penjualan_tahun_bulan = pd.DataFrame(penjualan_tahun_bulan)\n",
    "data_penjualan_tahun_bulan"
   ]
  },
  {
   "cell_type": "code",
   "execution_count": null,
   "metadata": {
    "cell_id": "7cc99f06e99a42f1b03cd32b13f04bc0",
    "deepnote_cell_type": "code",
    "deepnote_to_be_reexecuted": false,
    "execution_millis": 13,
    "execution_start": 1672666682200,
    "source_hash": "97d9d58c",
    "tags": []
   },
   "outputs": [],
   "source": [
    "col = \"penjualan\"\n",
    "max_penjualan = penjualan_tahun_bulan.loc[penjualan_tahun_bulan[col].idxmax()]\n",
    "print(\"Nilai tertinggi penjualan tertinggi adalah\", max_penjualan['penjualan'], \"pada tahun\", max_penjualan['YrSold'], \"dan bulan\", max_penjualan['MonthSold'])\n",
    "\n",
    "print('Detail 5 penjualan tertinggi')\n",
    "top_penjualan = penjualan_tahun_bulan.nlargest(n=5, columns=['penjualan'])\n",
    "top_penjualan"
   ]
  },
  {
   "cell_type": "code",
   "execution_count": null,
   "metadata": {
    "cell_id": "7c52f8c7ca81462a97dee806e6f68f2e",
    "deepnote_cell_type": "code",
    "deepnote_to_be_reexecuted": false,
    "execution_millis": 3,
    "execution_start": 1672666682211,
    "source_hash": "40ac3697",
    "tags": []
   },
   "outputs": [],
   "source": [
    "mean_penjualan = penjualan_tahun_bulan['penjualan'].mean()\n",
    "median_penjualan = penjualan_tahun_bulan['penjualan'].median()\n",
    "print(\"rata_rata penjualan per periode bulan dan tahun\", mean_penjualan)\n",
    "print(\"median penjualan per periode bulan dan tahun\", median_penjualan)"
   ]
  },
  {
   "cell_type": "markdown",
   "metadata": {
    "cell_id": "59efb9a93e5e4edf83abfae04aff643f",
    "deepnote_cell_type": "text-cell-p",
    "formattedRanges": [],
    "is_collapsed": false,
    "tags": []
   },
   "source": [
    "Berdasarkan tabel di atas, dapat dilihat bahwa lima penjualan tertinggi ada pada Juli 2017 dengan 147 penjualan, Januari 2016 dengan 106 penjualan, Juni 2017 dengan 101 penjualan, April 2013 dengan 82 penjualan, dan Mei 2013 dengan 80 penjualan. Apabila dibandingkan dengan rata-rata dan median penjualan per periode bulan dan tahun, maka dapat dilihat bahwa terdapat waktu dimana penjualan apartemen lebih tinggi dari biasanya, dengan penjualan tertinggi ada pada Juli 2017."
   ]
  },
  {
   "cell_type": "code",
   "execution_count": null,
   "metadata": {
    "cell_id": "ed1c5559c09645468541fa32634b8d12",
    "deepnote_cell_type": "code",
    "deepnote_to_be_reexecuted": false,
    "execution_millis": 211,
    "execution_start": 1672666682214,
    "source_hash": "886cf47b",
    "tags": []
   },
   "outputs": [],
   "source": [
    "penjualan_tahun_bulan.boxplot(column =['penjualan'], grid = False)"
   ]
  },
  {
   "cell_type": "markdown",
   "metadata": {
    "cell_id": "9464d12035014b99bde46d6c0ed8d017",
    "deepnote_cell_type": "text-cell-p",
    "formattedRanges": [
     {
      "fromCodePoint": 36,
      "marks": {
       "italic": true
      },
      "toCodePoint": 44,
      "type": "marks"
     }
    ],
    "is_collapsed": false,
    "tags": []
   },
   "source": [
    "Dari boxplot di atas, dapat dilihat outliers penjualan yang lebih tinggi dari biasanya, yaitu penjualan pada Juli 2017 dengan 147 penjualan, Januari 2016 dengan 106 penjualan, Juni 2017 dengan 101 penjualan. "
   ]
  },
  {
   "cell_type": "markdown",
   "metadata": {
    "cell_id": "a7b857e5a3e24b068e098538a2c36f32",
    "deepnote_cell_type": "markdown",
    "tags": []
   },
   "source": [
    "### Tren Perubahan Harga Penjualan Apartemen dari Tahun ke Tahun!"
   ]
  },
  {
   "cell_type": "markdown",
   "metadata": {
    "cell_id": "747db91a8eae4b5da038d6515cdc921a",
    "deepnote_cell_type": "markdown",
    "tags": []
   },
   "source": [
    "Untuk melihat tren perubahan harga penjualan apartemen dari tahun ke tahun, kita akan menggunakan data harga jual rata-rata apartemen per tahunnya, lalu akan divisualisasikan dengan barplot sehingga lebih mudah bagi kita untuk menganalisis trennya."
   ]
  },
  {
   "cell_type": "code",
   "execution_count": null,
   "metadata": {
    "allow_embed": false,
    "cell_id": "1d276b06646e4c0783603eb3b768a0c4",
    "deepnote_cell_type": "code",
    "deepnote_table_invalid": false,
    "deepnote_table_loading": false,
    "deepnote_table_state": {
     "filters": [],
     "pageIndex": 0,
     "pageSize": 10,
     "sortBy": []
    },
    "deepnote_to_be_reexecuted": false,
    "execution_millis": 45,
    "execution_start": 1672666682469,
    "source_hash": "ce92834e",
    "tags": []
   },
   "outputs": [],
   "source": [
    "harga_tahunan = daegu_df.groupby('YearBuilt')['SalePrice'].mean().rename('Harga rata-rata').reset_index()\n",
    "display(harga_tahunan)\n",
    "harga_tahunan.set_index('YearBuilt', inplace=True)"
   ]
  },
  {
   "cell_type": "code",
   "execution_count": null,
   "metadata": {
    "allow_embed": false,
    "cell_id": "5c52b865a9a94fd1891f08f87cf61b76",
    "deepnote_cell_type": "code",
    "deepnote_to_be_reexecuted": false,
    "execution_millis": 356,
    "execution_start": 1672666682557,
    "source_hash": "b32f2906",
    "tags": []
   },
   "outputs": [],
   "source": [
    "plt.figure(figsize=(15, 8))\n",
    "sns.barplot(\n",
    "    x= harga_tahunan.index,\n",
    "    y='Harga rata-rata',  \n",
    "    data=harga_tahunan,\n",
    "    color='orange'\n",
    ")\n",
    "plt.show()"
   ]
  },
  {
   "cell_type": "markdown",
   "metadata": {
    "cell_id": "1724545bc221442dbcb2b7aa97786d55",
    "deepnote_cell_type": "markdown",
    "tags": []
   },
   "source": [
    "Berdasarkan barplot di atas, kita langsung dapat menyimpulkan tren perubahan harga penjualan apartemen dari tahun ke tahun, yaitu tren bergerak turun pada periode 1978-1980, lalu bergerak naik pada periode 1980-1986, kemudian bergerak turun pada periode 1986-1992, lalu bergerak naik pada periode 1992-1993, kemudian bergerak turun pada periode 1993-1997, lalu bergerak naik pada periode 1997-2007, kemudian bergerak turun pada periode 2007-2009, dan bergerak naik pada periode 2009-2015.\n",
    "\n",
    "Jika kita melihat barplot di atas dengan timeframe yang panjang, dapat disimpulkan bahwa tren perubahan harga penjualan apartemen dari tahun 1978-2015 terus bergerak naik. Hal ini tentunya sesuai dengan realita di kehidupan bahwa harga tanah/bangunan (properti) akan terus naik karena jumlah tanah tidak bisa bertambah, sedangkan jumlah manusia terus bertambah. Ini artinya permintaan/kebutuhan akan properti akan semakin banyak, sedangkan persediaan tanah akan semakin sedikit, sehingga menyebabkan harga akan terus naik, namun harga tetap bisa turun dalam timeframe yang kecil, misalnya 1-2 tahun."
   ]
  },
  {
   "cell_type": "markdown",
   "metadata": {
    "cell_id": "84ad1b62f91c4e76bb70676e288ba482",
    "deepnote_cell_type": "markdown",
    "tags": []
   },
   "source": [
    "### Korelasi Banyak Fasilitas dan Instansi Pendidikan Terdekat terhadap Apartemen Family Friendly"
   ]
  },
  {
   "cell_type": "markdown",
   "metadata": {
    "cell_id": "fc8277a43a1947028cb78d89f7c42b58",
    "deepnote_cell_type": "markdown",
    "tags": []
   },
   "source": [
    "> Heatmap dipilih karena memiliki fungsionalitas yang lebih baik dalam melakukan visualisasi data yang berbasis korelasi. Pada konteks kali ini, kami menggunakan metode korelasi Point Biserial karena dapat membandingkan data numerik (banyak fasilitas dan instansi pendidikan) dengan data dikotomi (Family Friendly dan Non Family Friendly)."
   ]
  },
  {
   "cell_type": "code",
   "execution_count": null,
   "metadata": {
    "cell_id": "88fa5f8e846646ea96f343e86a3acf5d",
    "deepnote_cell_type": "code",
    "deepnote_to_be_reexecuted": false,
    "execution_millis": 80,
    "execution_start": 1672666682920,
    "source_hash": "28203e4",
    "tags": []
   },
   "outputs": [],
   "source": [
    "# Select facility and school columns\n",
    "facilities_col = [i for i in temp_clean.columns.tolist() if 'N_FacilitiesNearBy' in i]\n",
    "facilities_col.remove('N_FacilitiesNearBy(Total)')\n",
    "\n",
    "school_col = [i for i in temp_clean.columns.tolist() if 'N_SchoolNearBy' in i]\n",
    "school_col.remove('N_SchoolNearBy(Total)')\n",
    "\n",
    "data_corr = temp_clean[facilities_col + school_col]\n",
    "data_corr"
   ]
  },
  {
   "cell_type": "code",
   "execution_count": null,
   "metadata": {
    "cell_id": "d2e1e1702b6a431688f4dc6cf514cec4",
    "deepnote_cell_type": "code",
    "deepnote_table_loading": false,
    "deepnote_table_state": {
     "filters": [],
     "pageIndex": 0,
     "pageSize": 10,
     "sortBy": []
    },
    "deepnote_to_be_reexecuted": false,
    "execution_millis": 16,
    "execution_start": 1672666683003,
    "source_hash": "abea7da1",
    "tags": []
   },
   "outputs": [],
   "source": [
    "# Calculate Point Biserial Correlation for and school columns\n",
    "from scipy.stats import pointbiserialr\n",
    "\n",
    "_corr = list()\n",
    "for col in data_corr.columns:\n",
    "    biserial_corr = pointbiserialr(data_corr[col], temp_clean[\"FamilyFriendly\"])\n",
    "    print(f\"Hasil Pvalues {col}:\", \"Signifikan\" if biserial_corr[0] < 0.05 else \"Tidak Signifikan\")\n",
    "    _corr.append(biserial_corr[0])\n",
    "\n",
    "corr_df = pd.DataFrame(_corr, index=data_corr.columns)\n",
    "corr_df.columns = [\"FamilyFriendly\"]\n",
    "\n",
    "corr_df"
   ]
  },
  {
   "cell_type": "code",
   "execution_count": null,
   "metadata": {
    "cell_id": "fbe0e0e669034d478aef0d00fdd3b2cb",
    "deepnote_cell_type": "code",
    "deepnote_to_be_reexecuted": false,
    "execution_millis": 543,
    "execution_start": 1672666683027,
    "source_hash": "8594bdff",
    "tags": []
   },
   "outputs": [],
   "source": [
    "# Sort Point Biserial Correlation for facility and school columns\n",
    "heatmap_data = corr_df\\\n",
    "                .sort_values(by='FamilyFriendly', key=abs, ascending=False)\n",
    "\n",
    "# Visualize the Heatmap\n",
    "sns.heatmap(heatmap_data, annot=True, linewidths=.5, fmt= '.2f')\n",
    "plt.title(\n",
    "    \"Korelasi Linear Banyak Fasilitas dan Instansi Pendidikan Terdekat Terhadap Family Friendly\", \n",
    "    fontsize = 10,\n",
    "    y=1.06\n",
    ")"
   ]
  },
  {
   "cell_type": "markdown",
   "metadata": {
    "cell_id": "52ebac2b1187485a91eae243591c284c",
    "deepnote_cell_type": "markdown",
    "tags": []
   },
   "source": [
    "**Insights** <br/>\n",
    "- Fasilitas yang paling berkorelasi secara linear adalah taman dengan korelasi positif. Dengan kata lain, semakin banyak taman terdekat, semakin besar kemungkinan apartemen tergolong family friendly dan apartemen yang tergolong family friendly cenderung memiliki banyak taman.\n",
    "- Instansi pendidikan yang paling berkorelasi secara linear adalah universitas dengan korelasi negatif. Dengan kata lain, semakin banyak universitas, semakin kecil kemungkinan apartemen tergolong family friendly dan apartemen yang tergolong family friendly cenderung memiliki sedikit universitas.\n",
    "- Terlihat dari p values yang dihasilkan oleh point biserial,semua korelasi sekolah terdekat dengan family friendly tergolong signifikan. Dengan kata lain, terdapat perbedaan rata-rata banyak sekolah terdekat yang signifikan antara apartemen yang family friendly dan non family friendly. Untuk fasilitas terdekat, banyak kantor publik, mall, rumah sakit, dan fasilitas lainnya cenderung lebih signifikan jika dibandingkan antara apartemen yang family friendly dan non family friendly."
   ]
  },
  {
   "cell_type": "markdown",
   "metadata": {
    "cell_id": "34bddab6091d4853bba877201347fd01",
    "deepnote_cell_type": "markdown",
    "tags": []
   },
   "source": [
    "### Distribusi Biaya Penjualan Apartemen per Sqft Untuk Tiap Tipe Hallway"
   ]
  },
  {
   "cell_type": "markdown",
   "metadata": {
    "cell_id": "bdf2794dac444fd396a49d44e53291e8",
    "deepnote_cell_type": "markdown",
    "tags": []
   },
   "source": [
    "> Violin plot dipilih karena memiliki fungsionalitas yang baik dalam melakukan visualisasi data yang berbasis distribusi antara dua variabel secara menyeluruh. Pada konteks EDA kali ini, variabel yang dimaksud adalah tipe Hallway dan Biaya Penjualan Apartemen per Sqft."
   ]
  },
  {
   "cell_type": "code",
   "execution_count": null,
   "metadata": {
    "cell_id": "caa8b697286d47bb8a147b890dbe8c30",
    "deepnote_cell_type": "code",
    "deepnote_to_be_reexecuted": false,
    "execution_millis": 2,
    "execution_start": 1672666683618,
    "source_hash": "cf89ee3e",
    "tags": []
   },
   "outputs": [],
   "source": [
    "# Copy columns needed for the problem\n",
    "pr_mgmt_apt_df = temp_clean[['SalePrice', 'HallwayType', 'Size(sqf)']].copy()\n",
    "\n",
    "pr_mgmt_apt_df['PricePerSqft'] = pr_mgmt_apt_df['SalePrice'] / pr_mgmt_apt_df['Size(sqf)']\n",
    "pr_mgmt_apt_df = pr_mgmt_apt_df.drop(['SalePrice', 'Size(sqf)'], axis = 1)\\\n",
    "\n",
    "pr_mgmt_apt_df"
   ]
  },
  {
   "cell_type": "code",
   "execution_count": null,
   "metadata": {
    "cell_id": "9498bf8af5c4431e906bc684ffc9e79a",
    "deepnote_cell_type": "code",
    "deepnote_to_be_reexecuted": false,
    "execution_millis": 174,
    "execution_start": 1672666683618,
    "source_hash": "6220c1ef",
    "tags": []
   },
   "outputs": [],
   "source": [
    "# Visualize violin plot\n",
    "fig = px.violin(\n",
    "    pr_mgmt_apt_df, \n",
    "    x=\"HallwayType\", \n",
    "    y=\"PricePerSqft\",\n",
    "    box=True,\n",
    "    title=\"Distribusi Biaya Penjualan Apartemen per Sqft Untuk Tiap Tipe Hallway\"\n",
    ")\n",
    "\n",
    "fig.update_layout({\n",
    "    \"paper_bgcolor\":'rgba(255,255,255,1)',\n",
    "    \"plot_bgcolor\":'rgba(255,255,255,1)'\n",
    "})\n",
    "\n",
    "fig.update_xaxes(showline=True, linewidth=1.5, linecolor='grey')\n",
    "fig.update_yaxes(showgrid=True, gridwidth=1, gridcolor='lightgrey')\n",
    "fig.update_yaxes(showline=True, linewidth=1.5, linecolor='grey')\n",
    "\n",
    "fig.show()"
   ]
  },
  {
   "cell_type": "markdown",
   "metadata": {
    "cell_id": "ad2394c132f147aaa73ae2790e52ae40",
    "deepnote_cell_type": "markdown",
    "tags": []
   },
   "source": [
    "**Insights** <br/>\n",
    "- Harga penjualan apartemen per square feet bervariasi pada masing-masing tipe lorong, misal tipe teras yang cenderung terdistribusi pada 200-300, tipe koridor yang cenderung terdistribusi pada 100-200, dan tipe campuran teras dan koridor cenderung terdistribusi pada 100-200.\n",
    "- Tipe lorong teras cenderung memiliki harga jual yang lebih mahal dibandingkan tipe lorong lainnya.\n",
    "- Tipe campuran teras dan koridor lebih terdistribusi secara merata dibandingkan tipe lainnya yang masih memiliki outlier normal."
   ]
  },
  {
   "cell_type": "markdown",
   "metadata": {
    "cell_id": "4c736921e0cd4e7d9cc2a49a41e59fa3",
    "deepnote_cell_type": "markdown",
    "tags": []
   },
   "source": [
    "## Modelling"
   ]
  },
  {
   "cell_type": "markdown",
   "metadata": {
    "cell_id": "0850bf36b90648479e8a0602ecadef89",
    "deepnote_cell_type": "markdown",
    "tags": []
   },
   "source": [
    "### Regression"
   ]
  },
  {
   "cell_type": "markdown",
   "metadata": {
    "cell_id": "aec7b810bf994dc48419e70b91792e7b",
    "deepnote_cell_type": "markdown",
    "tags": []
   },
   "source": [
    "Menentukan data yang akan digunakan dan proses pembuatan fitur target, yaitu price per square feet."
   ]
  },
  {
   "cell_type": "code",
   "execution_count": null,
   "metadata": {
    "cell_id": "d320477c2eba4ee2b8341a5b4762bfe8",
    "deepnote_cell_type": "code",
    "deepnote_table_loading": false,
    "deepnote_table_state": {
     "filters": [],
     "pageIndex": 1,
     "pageSize": 10,
     "sortBy": []
    },
    "deepnote_to_be_reexecuted": false,
    "execution_millis": 2,
    "execution_start": 1672666683796,
    "source_hash": "fb8759bf",
    "tags": []
   },
   "outputs": [],
   "source": [
    "X = daegu_df.iloc[:, 1:42]\n",
    "\n",
    "# Create new variable: Price per size (square feet)\n",
    "size_unit = daegu_df.iloc[:, 0]\n",
    "daegu_df[\"price_per_sqf\"] = daegu_df['SalePrice']/daegu_df['Size(sqf)']\n",
    "y = daegu_df[\"price_per_sqf\"]\n",
    "\n",
    "df_reg = X.join(y)"
   ]
  },
  {
   "cell_type": "markdown",
   "metadata": {
    "cell_id": "3025378c8ed5483eb1e749986d10a22b",
    "deepnote_cell_type": "markdown",
    "tags": []
   },
   "source": [
    "#### Feature Selection"
   ]
  },
  {
   "cell_type": "markdown",
   "metadata": {
    "cell_id": "4d330d949d4043498b21de7fb91ea944",
    "deepnote_cell_type": "markdown",
    "tags": []
   },
   "source": [
    "Menggunakan metode korelasi, yaitu menggunakan variabel yang memiliki korelasi tinggi dengan variabel target dan menghapus variabel yang memiliki korelasi tinggi dengan variabel lainnya."
   ]
  },
  {
   "cell_type": "code",
   "execution_count": null,
   "metadata": {
    "cell_id": "3cb274a10e50433f8dfd9da0979ec492",
    "deepnote_cell_type": "code",
    "deepnote_to_be_reexecuted": false,
    "execution_millis": 89,
    "execution_start": 1672666683801,
    "source_hash": "2d46dd3c",
    "tags": []
   },
   "outputs": [],
   "source": [
    "# Correlation with the output variable\n",
    "corr = df_reg.corr()\n",
    "cor_target = abs(corr[\"price_per_sqf\"])\n",
    "\n",
    "# Selecting highly correlated features\n",
    "relevant_features = cor_target[cor_target > 0.5]\n",
    "print(\"Variabel-variabel yang memiliki korelasi tinggi dengan variabel target:\")\n",
    "relevant_features"
   ]
  },
  {
   "cell_type": "code",
   "execution_count": null,
   "metadata": {
    "cell_id": "19f99423e005473ca379558e1e83ee85",
    "deepnote_cell_type": "code",
    "deepnote_to_be_reexecuted": false,
    "execution_millis": 5,
    "execution_start": 1672666683918,
    "source_hash": "6116d7bd",
    "tags": []
   },
   "outputs": [],
   "source": [
    "# Identification of correlation among variable selected above\n",
    "# The identification is done by manually observing the correlation values among variable pairs\n",
    "print(df_reg[[\"YearBuilt\",\"YrSold\"]].corr())\n",
    "print(df_reg[[\"N_FacilitiesInApt\",\"YearBuilt\"]].corr())\n",
    "print(df_reg[[\"N_FacilitiesInApt\",\"YrSold\"]].corr())"
   ]
  },
  {
   "cell_type": "markdown",
   "metadata": {
    "cell_id": "b26ed849cfc641ada0f91b68df17187c",
    "deepnote_cell_type": "markdown",
    "tags": []
   },
   "source": [
    "> Berdasarkan hasil analisis nilai korelasi variabel dengan variabel target, didapatkan bahwa terdapat tiga buah variabel yang memiliki korelasi tinggi dengan nilai jual, yaitu tahun bangun, tahun terjual dan jumlah fasilitas yang berada dalam apartemen. Selanjutnya, berdasarkan hasil analisis antara variabel tersebut, ditemukan bahwa variabel N_FacilitiesInApt dan YrSold memiliki korelasi yang tergolong tinggi sehingga variabel N_FacilitiesInApt akan di drop karena memiliki korelasi yang lebih rendah dengan variabel target."
   ]
  },
  {
   "cell_type": "code",
   "execution_count": null,
   "metadata": {
    "cell_id": "5a6293297ac243d798ab794be52a29be",
    "deepnote_cell_type": "code",
    "deepnote_to_be_reexecuted": false,
    "execution_millis": 0,
    "execution_start": 1672666683919,
    "source_hash": "cf8c8db5",
    "tags": []
   },
   "outputs": [],
   "source": [
    "X = X.drop(columns=['N_FacilitiesInApt'])"
   ]
  },
  {
   "cell_type": "markdown",
   "metadata": {
    "cell_id": "9afa53771d004d71884a804df8141190",
    "deepnote_cell_type": "markdown",
    "tags": []
   },
   "source": [
    "Menggunakan metode Lasso (least absolute shrinkage and selection operator) untuk meningkatkan performa dari model."
   ]
  },
  {
   "cell_type": "code",
   "execution_count": null,
   "metadata": {
    "cell_id": "c968ef3694504994bcba49736218c6e5",
    "deepnote_cell_type": "code",
    "deepnote_to_be_reexecuted": false,
    "execution_millis": 0,
    "execution_start": 1672666683920,
    "source_hash": "79396246",
    "tags": []
   },
   "outputs": [],
   "source": [
    "X_train, X_test, y_train, y_test = train_test_split(X, y, test_size = 0.2, random_state=42)"
   ]
  },
  {
   "cell_type": "code",
   "execution_count": null,
   "metadata": {
    "cell_id": "f564c6f41d144068a1fe63aad3de2c34",
    "deepnote_cell_type": "code",
    "deepnote_to_be_reexecuted": false,
    "execution_millis": 4,
    "execution_start": 1672666683922,
    "source_hash": "159ed44f",
    "tags": []
   },
   "outputs": [],
   "source": [
    "scaler = MinMaxScaler()\n",
    "X_train = scaler.fit_transform(X_train)\n",
    "X_test = scaler.transform(X_test)"
   ]
  },
  {
   "cell_type": "code",
   "execution_count": null,
   "metadata": {
    "cell_id": "eec53ed55d3f4c08b587c17e4a9dbfd8",
    "deepnote_cell_type": "code",
    "deepnote_to_be_reexecuted": false,
    "execution_millis": 6,
    "execution_start": 1672666684092,
    "source_hash": "f82521df",
    "tags": []
   },
   "outputs": [],
   "source": [
    "lasso_feat = Lasso(alpha=1)\n",
    "lasso_feat.fit(X_train, y_train)"
   ]
  },
  {
   "cell_type": "code",
   "execution_count": null,
   "metadata": {
    "cell_id": "fed937f7871f46fd943a75b2a89dcac0",
    "deepnote_cell_type": "code",
    "deepnote_to_be_reexecuted": false,
    "execution_millis": 270,
    "execution_start": 1672666684147,
    "source_hash": "7f4e1405",
    "tags": []
   },
   "outputs": [],
   "source": [
    "# Show each feature importance value and save the important value\n",
    "importance = lasso_feat.coef_\n",
    "listFitur = []\n",
    "for i,v in enumerate(importance):\n",
    "    if (abs(v)> 0.2):\n",
    "        listFitur += [i]\n",
    "    print('Feature: %0d, Score: %.5f' % (i,v))\n",
    "\n",
    "# plot feature importance\n",
    "plt.bar([x for x in range(len(importance))], importance)\n",
    "plt.show()"
   ]
  },
  {
   "cell_type": "code",
   "execution_count": null,
   "metadata": {
    "cell_id": "37f3bfcd8d0845a4a2944026049bbc5a",
    "deepnote_cell_type": "code",
    "deepnote_to_be_reexecuted": false,
    "execution_millis": 0,
    "execution_start": 1672666684421,
    "source_hash": "b12283ec",
    "tags": []
   },
   "outputs": [],
   "source": [
    "# Create new predictor variable dataframe from the selected features\n",
    "X = X.iloc[:, listFitur]"
   ]
  },
  {
   "cell_type": "markdown",
   "metadata": {
    "cell_id": "35cfe73ebdb24591bd5e29128683341a",
    "deepnote_cell_type": "markdown",
    "tags": []
   },
   "source": [
    "Berikut ini adalah daftar fitur yang terpilih berdasarkan metode korelasi dan metode lasso."
   ]
  },
  {
   "cell_type": "code",
   "execution_count": null,
   "metadata": {
    "cell_id": "b2265d48a92f49049ad993a7fe14c4ad",
    "deepnote_cell_type": "code",
    "deepnote_to_be_reexecuted": false,
    "execution_millis": 5,
    "execution_start": 1672666684428,
    "source_hash": "e52f4e4c",
    "tags": []
   },
   "outputs": [],
   "source": [
    "X.info()"
   ]
  },
  {
   "cell_type": "markdown",
   "metadata": {
    "cell_id": "f2206d3b6ac840809cb0cf85a98a8641",
    "deepnote_cell_type": "markdown",
    "tags": []
   },
   "source": [
    "#### Model Training and Testing"
   ]
  },
  {
   "cell_type": "code",
   "execution_count": null,
   "metadata": {
    "cell_id": "841b4094238d45eda11d94c11a1a5578",
    "deepnote_cell_type": "code",
    "deepnote_to_be_reexecuted": false,
    "execution_millis": 6,
    "execution_start": 1672666684491,
    "source_hash": "ac31a382",
    "tags": []
   },
   "outputs": [],
   "source": [
    "X_train, X_test, y_train, y_test = train_test_split(X, y, test_size = 0.2, random_state=42)\n",
    "X_train = scaler.fit_transform(X_train)\n",
    "X_test = scaler.transform(X_test)"
   ]
  },
  {
   "cell_type": "markdown",
   "metadata": {
    "cell_id": "5abc5826be7b40e29c5801f16473b28a",
    "deepnote_cell_type": "markdown",
    "tags": []
   },
   "source": [
    "1. Linear Regression Model"
   ]
  },
  {
   "cell_type": "code",
   "execution_count": null,
   "metadata": {
    "cell_id": "93de263a0cdd47b7866c6db53c08d66e",
    "deepnote_cell_type": "code",
    "deepnote_to_be_reexecuted": false,
    "execution_millis": 68,
    "execution_start": 1672666684544,
    "source_hash": "adfa7e73",
    "tags": []
   },
   "outputs": [],
   "source": [
    "linear = LinearRegression()\n",
    "\n",
    "# create a KFold object with 5 folds\n",
    "kfold = KFold(n_splits=10)\n",
    "\n",
    "# use the KFold object to split the training data into training and validation sets\n",
    "for train_index, val_index in kfold.split(X_train):\n",
    "    # get the training and validation data\n",
    "    X_train_fold, X_val_fold = X_train[train_index], X_train[val_index]\n",
    "    y_train_fold, y_val_fold = y_train.iloc[train_index], y_train.iloc[val_index]\n",
    "\n",
    "    # fit the model on the training data\n",
    "    linear.fit(X_train_fold, y_train_fold)\n",
    "\n",
    "    # evaluate the model on the validation data\n",
    "    score = linear.score(X_val_fold, y_val_fold)\n",
    "    print(f\"Validation score: {score:.3f}\")"
   ]
  },
  {
   "cell_type": "code",
   "execution_count": null,
   "metadata": {
    "cell_id": "680d220f18f742cdbd5813b44503b09f",
    "deepnote_cell_type": "code",
    "deepnote_to_be_reexecuted": false,
    "execution_millis": 84,
    "execution_start": 1672666684611,
    "source_hash": "d4acc705",
    "tags": []
   },
   "outputs": [],
   "source": [
    "# predict test data\n",
    "y_linear_predict = linear.predict(X_test)\n",
    "y_linear_predict"
   ]
  },
  {
   "cell_type": "markdown",
   "metadata": {
    "cell_id": "64a52cdb133643909b97037049ff2cb5",
    "deepnote_cell_type": "markdown",
    "tags": []
   },
   "source": [
    "Berikut ini adalah perbandingan hasil prediksi dengan nilai aktual"
   ]
  },
  {
   "cell_type": "code",
   "execution_count": null,
   "metadata": {
    "cell_id": "db0cfc87c98240fd9407f6022d2deb91",
    "deepnote_cell_type": "code",
    "deepnote_to_be_reexecuted": false,
    "execution_millis": 271,
    "execution_start": 1672666684744,
    "source_hash": "8dff9b04",
    "tags": []
   },
   "outputs": [],
   "source": [
    "plt.figure(figsize=(10,10))\n",
    "plt.scatter(y_test, y_linear_predict, c='crimson')\n",
    "\n",
    "p1 = max(max(y_linear_predict), max(y_test))\n",
    "p2 = min(min(y_linear_predict), min(y_test))\n",
    "plt.plot([p1, p2], [p1, p2], 'b-')\n",
    "plt.xlabel('Actual Sale Price Value', fontsize=15)\n",
    "plt.ylabel('Predicted Sale Price Value', fontsize=15)\n",
    "plt.axis('equal')\n",
    "plt.show()"
   ]
  },
  {
   "cell_type": "code",
   "execution_count": null,
   "metadata": {
    "cell_id": "51654617b5a3409abe39e38b9e5ccbc9",
    "deepnote_cell_type": "code",
    "deepnote_to_be_reexecuted": false,
    "execution_millis": 5,
    "execution_start": 1672666685019,
    "source_hash": "48c860db",
    "tags": []
   },
   "outputs": [],
   "source": [
    "print(\"Evaluation Metrics For Linear Regression Model:\")\n",
    "print('MAE: %.3f' % mean_absolute_error(y_test, y_linear_predict))\n",
    "print('MSE: %.3f' % mean_squared_error(y_test, y_linear_predict))\n",
    "print('RMSE: %.3f' % np.sqrt(mean_squared_error(y_test, y_linear_predict)))\n",
    "print('R-Squared: %.7f' % r2_score(y_test, y_linear_predict))"
   ]
  },
  {
   "cell_type": "markdown",
   "metadata": {
    "cell_id": "9a20e59b8bfb424dbfc9b260d3531ec9",
    "deepnote_cell_type": "markdown",
    "tags": []
   },
   "source": [
    "> Hasil evaluasi menunjukkan bahwa model mampu menjelaskan sekitar 82.85% variability dari target variable. Nilai ini sudah tergolong baik untuk model linear regression. Selain itu, didapatkan nilai mean absolute error sebesar 26.164, mean squared error sebesar 1261.01, dan root mean squared error sebesar 35.51."
   ]
  },
  {
   "cell_type": "code",
   "execution_count": null,
   "metadata": {
    "cell_id": "af44d80117d644eabc84f23fee505245",
    "deepnote_cell_type": "code",
    "deepnote_to_be_reexecuted": false,
    "execution_millis": 6,
    "execution_start": 1672666685024,
    "source_hash": "b7844bb7",
    "tags": []
   },
   "outputs": [],
   "source": [
    "print(\"Koefisien persamaan linear: \\n\", linear.coef_)\n",
    "print(\"Intersep persamaan linear: \\n\", linear.intercept_)"
   ]
  },
  {
   "cell_type": "markdown",
   "metadata": {
    "cell_id": "00beda395a9242e3bbb28d03ac2b004b",
    "deepnote_cell_type": "markdown",
    "tags": []
   },
   "source": [
    "> Persamaan linear yang didapatkan adalah price_per_sqf = 121.14 + 72.18 * YearBuilt + 156.78 * YrSold + 26.70 * Size(sqf) -119.22 * N_parkingLot(basement) + 78.1 * N_FacilitiesNearby(Mall) + ..."
   ]
  },
  {
   "cell_type": "markdown",
   "metadata": {
    "cell_id": "377d83d98dd248dbafd78d412e778219",
    "deepnote_cell_type": "markdown",
    "tags": []
   },
   "source": [
    "2. Ridge Regression model"
   ]
  },
  {
   "cell_type": "code",
   "execution_count": null,
   "metadata": {
    "cell_id": "f8c894b605814bf2a34353f910d47843",
    "deepnote_cell_type": "code",
    "deepnote_to_be_reexecuted": false,
    "execution_millis": 156,
    "execution_start": 1672666685136,
    "source_hash": "6377376a",
    "tags": []
   },
   "outputs": [],
   "source": [
    "ridge = Ridge(alpha=1)\n",
    "# use the KFold object to split the training data into training and validation sets\n",
    "for train_index, val_index in kfold.split(X_train):\n",
    "    # get the training and validation data\n",
    "    X_train_fold, X_val_fold = X_train[train_index], X_train[val_index]\n",
    "    y_train_fold, y_val_fold = y_train.iloc[train_index], y_train.iloc[val_index]\n",
    "\n",
    "    # fit the model on the training data\n",
    "    ridge.fit(X_train_fold, y_train_fold)\n",
    "\n",
    "    # evaluate the model on the validation data\n",
    "    score = ridge.score(X_val_fold, y_val_fold)\n",
    "    print(f\"Validation score: {score:.3f}\")"
   ]
  },
  {
   "cell_type": "code",
   "execution_count": null,
   "metadata": {
    "cell_id": "272048ac2cb744c1933511ae9fe4c229",
    "deepnote_cell_type": "code",
    "deepnote_to_be_reexecuted": false,
    "execution_millis": 1,
    "execution_start": 1672666685338,
    "source_hash": "a98823c8",
    "tags": []
   },
   "outputs": [],
   "source": [
    "y_ridge_predict = ridge.predict(X_test)\n",
    "y_ridge_predict"
   ]
  },
  {
   "cell_type": "markdown",
   "metadata": {
    "cell_id": "8d62b21e4bae49d6ac7d5b9461760719",
    "deepnote_cell_type": "markdown",
    "tags": []
   },
   "source": [
    "Berikut ini adalah perbandingan hasil prediksi dengan nilai aktual"
   ]
  },
  {
   "cell_type": "code",
   "execution_count": null,
   "metadata": {
    "cell_id": "9a656c14af89427b8a897127a1a05357",
    "deepnote_cell_type": "code",
    "deepnote_to_be_reexecuted": false,
    "execution_millis": 236,
    "execution_start": 1672666685389,
    "source_hash": "6bfd6fcb",
    "tags": []
   },
   "outputs": [],
   "source": [
    "plt.figure(figsize=(10,10))\n",
    "plt.scatter(y_test, y_ridge_predict, c='crimson')\n",
    "\n",
    "p1 = max(max(y_ridge_predict), max(y_test))\n",
    "p2 = min(min(y_ridge_predict), min(y_test))\n",
    "plt.plot([p1, p2], [p1, p2], 'b-')\n",
    "plt.xlabel('Actual Sale Price Value', fontsize=15)\n",
    "plt.ylabel('Predicted Sale Price Value', fontsize=15)\n",
    "plt.axis('equal')\n",
    "plt.show()"
   ]
  },
  {
   "cell_type": "code",
   "execution_count": null,
   "metadata": {
    "cell_id": "fc395bdc4a654107b275b063aa6fef94",
    "deepnote_cell_type": "code",
    "deepnote_to_be_reexecuted": false,
    "execution_millis": 4,
    "execution_start": 1672666685629,
    "source_hash": "dc474af8",
    "tags": []
   },
   "outputs": [],
   "source": [
    "print(\"Evaluation Metrics For Ridge Regression Model:\")\n",
    "print('MAE: %.3f' % mean_absolute_error(y_test, y_ridge_predict))\n",
    "print('MSE: %.3f' % mean_squared_error(y_test, y_ridge_predict))\n",
    "print('RMSE: %.3f' % np.sqrt(mean_squared_error(y_test, y_ridge_predict)))\n",
    "print('R-Squared: %.7f' % r2_score(y_test, y_ridge_predict))"
   ]
  },
  {
   "cell_type": "markdown",
   "metadata": {
    "cell_id": "b2eb3caa383040ef844525a0eedc4038",
    "deepnote_cell_type": "markdown",
    "tags": []
   },
   "source": [
    "> Hasil evaluasi menunjukkan bahwa model mampu menjelaskan sekitar 82.86% variability dari target variable. Nilai ini sudah tergolong baik untuk model ridge regression. Selain itu, didapatkan nilai mean absolute error sebesar 26.187, mean squared error sebesar 1260.61, dan root mean squared error sebesar 35.51."
   ]
  },
  {
   "cell_type": "code",
   "execution_count": null,
   "metadata": {
    "cell_id": "5619061e6ab848ec86acba46ff3d59cd",
    "deepnote_cell_type": "code",
    "deepnote_to_be_reexecuted": false,
    "execution_millis": 6,
    "execution_start": 1672666685688,
    "source_hash": "93b252b1",
    "tags": []
   },
   "outputs": [],
   "source": [
    "print(\"Koefisien persamaan linear: \\n\", ridge.coef_)\n",
    "print(\"Intersep persamaan linear: \\n\", ridge.intercept_)"
   ]
  },
  {
   "cell_type": "markdown",
   "metadata": {
    "cell_id": "158cb0e5249a48deb8d343fc3b60d60b",
    "deepnote_cell_type": "markdown",
    "tags": []
   },
   "source": [
    "> Persamaan linear yang didapatkan adalah price_per_sqf = 121.21 + 72.48 * YearBuilt + 156.38 * YrSold + 26.51 * Size(sqf) -117.36 * N_parkingLot(basement) + 77.41 * N_FacilitiesNearby(Mall) + ..."
   ]
  },
  {
   "cell_type": "markdown",
   "metadata": {
    "cell_id": "bf58df58c8e441c0bc51f70d906eab43",
    "deepnote_cell_type": "markdown",
    "tags": []
   },
   "source": [
    "3. Lasso Regression Model"
   ]
  },
  {
   "cell_type": "code",
   "execution_count": null,
   "metadata": {
    "cell_id": "fd501a1566ad45dd9685445b3f09cacb",
    "deepnote_cell_type": "code",
    "deepnote_to_be_reexecuted": false,
    "execution_millis": 394,
    "execution_start": 1672666685696,
    "source_hash": "f1ce0a41",
    "tags": []
   },
   "outputs": [],
   "source": [
    "lasso = Lasso(alpha=0.5)\n",
    "# use the KFold object to split the training data into training and validation sets\n",
    "for train_index, val_index in kfold.split(X_train):\n",
    "    # get the training and validation data\n",
    "    X_train_fold, X_val_fold = X_train[train_index], X_train[val_index]\n",
    "    y_train_fold, y_val_fold = y_train.iloc[train_index], y_train.iloc[val_index]\n",
    "\n",
    "    # fit the model on the training data\n",
    "    lasso.fit(X_train_fold, y_train_fold)\n",
    "\n",
    "    # evaluate the model on the validation data\n",
    "    score = lasso.score(X_val_fold, y_val_fold)\n",
    "    print(f\"Validation score: {score:.3f}\")"
   ]
  },
  {
   "cell_type": "code",
   "execution_count": null,
   "metadata": {
    "cell_id": "8096c8986647470dab5ee2eee9b3c294",
    "deepnote_cell_type": "code",
    "deepnote_to_be_reexecuted": false,
    "execution_millis": 54,
    "execution_start": 1672666686136,
    "source_hash": "6346f045",
    "tags": []
   },
   "outputs": [],
   "source": [
    "y_lasso_predict = lasso.predict(X_test)\n",
    "y_lasso_predict"
   ]
  },
  {
   "cell_type": "markdown",
   "metadata": {
    "cell_id": "e5bcc7a11d9c4976960aecf8544908eb",
    "deepnote_cell_type": "markdown",
    "tags": []
   },
   "source": [
    "Berikut ini adalah perbandingan hasil prediksi dengan nilai aktual"
   ]
  },
  {
   "cell_type": "code",
   "execution_count": null,
   "metadata": {
    "cell_id": "87ea8c4609304df6b06162d6f021270d",
    "deepnote_cell_type": "code",
    "deepnote_to_be_reexecuted": false,
    "execution_millis": 360,
    "execution_start": 1672666686196,
    "source_hash": "dde76f96",
    "tags": []
   },
   "outputs": [],
   "source": [
    "plt.figure(figsize=(10,10))\n",
    "plt.scatter(y_test, y_lasso_predict, c='crimson')\n",
    "\n",
    "p1 = max(max(y_lasso_predict), max(y_test))\n",
    "p2 = min(min(y_lasso_predict), min(y_test))\n",
    "plt.plot([p1, p2], [p1, p2], 'b-')\n",
    "plt.xlabel('Actual Sale Price Value', fontsize=15)\n",
    "plt.ylabel('Predicted Sale Price Value', fontsize=15)\n",
    "plt.axis('equal')\n",
    "plt.show()"
   ]
  },
  {
   "cell_type": "code",
   "execution_count": null,
   "metadata": {
    "cell_id": "aec5331a33524af0b77eaba7a55fbc38",
    "deepnote_cell_type": "code",
    "deepnote_to_be_reexecuted": false,
    "execution_millis": 2,
    "execution_start": 1672666686597,
    "source_hash": "80640ce0",
    "tags": []
   },
   "outputs": [],
   "source": [
    "print(\"Evaluation Metrics For Lasso Regression Model:\")\n",
    "print('MAE: %.3f' % mean_absolute_error(y_test, y_lasso_predict))\n",
    "print('MSE: %.3f' % mean_squared_error(y_test, y_lasso_predict))\n",
    "print('RMSE: %.3f' % np.sqrt(mean_squared_error(y_test, y_lasso_predict)))\n",
    "print('R-Squared: %.7f' % r2_score(y_test, y_lasso_predict))"
   ]
  },
  {
   "cell_type": "markdown",
   "metadata": {
    "cell_id": "a64cd927ce764dd1ab1c9c71fed717e5",
    "deepnote_cell_type": "markdown",
    "tags": []
   },
   "source": [
    "> Hasil evaluasi menunjukkan bahwa model mampu menjelaskan sekitar 82.04% variability dari target variable. Nilai ini sudah tergolong baik untuk model lasso regression. Selain itu, didapatkan nilai mean absolute error sebesar 27.39, mean squared error sebesar 1320.99, dan root mean squared error sebesar 36.34."
   ]
  },
  {
   "cell_type": "code",
   "execution_count": null,
   "metadata": {
    "cell_id": "d5bb79fdd3ab43c58378ee2dfbf0e3a4",
    "deepnote_cell_type": "code",
    "deepnote_to_be_reexecuted": false,
    "execution_millis": 8,
    "execution_start": 1672666686599,
    "source_hash": "ee44b515",
    "tags": []
   },
   "outputs": [],
   "source": [
    "print(\"Koefisien persamaan linear: \\n\", lasso.coef_)\n",
    "print(\"Intersep persamaan linear: \\n\", lasso.intercept_)"
   ]
  },
  {
   "cell_type": "markdown",
   "metadata": {
    "cell_id": "5a6c308c5dce406d96d89ea18292e167",
    "deepnote_cell_type": "markdown",
    "tags": []
   },
   "source": [
    "> Persamaan linear yang didapatkan adalah price_per_sqf = 92.84 + 88.1 * YearBuilt + 153.30 * YrSold + 19.80 * Size(sqf) -82.95 * N_parkingLot(basement) + 58.63 * N_FacilitiesNearby(Mall) + ..."
   ]
  },
  {
   "cell_type": "markdown",
   "metadata": {
    "cell_id": "d9715b9f9d0c4f8388c297cdd45b31de",
    "deepnote_cell_type": "markdown",
    "tags": []
   },
   "source": [
    "4. Random Forest Regression"
   ]
  },
  {
   "cell_type": "code",
   "execution_count": null,
   "metadata": {
    "cell_id": "010f7052aa4c468fbea43051dff8eb87",
    "deepnote_cell_type": "code",
    "deepnote_to_be_reexecuted": false,
    "execution_millis": 50567,
    "execution_start": 1672666686607,
    "source_hash": "3ec70fbb",
    "tags": []
   },
   "outputs": [],
   "source": [
    "from sklearn.ensemble import RandomForestRegressor\n",
    "random_forest = RandomForestRegressor()\n",
    "\n",
    "# Define the hyperparameter values to test\n",
    "param_grid = {\n",
    "    'n_estimators': [10, 30, 50],\n",
    "    'max_depth': [5, 10],\n",
    "    'min_samples_split': [2, 5, 10],\n",
    "    'min_samples_leaf': [5, 10, 15]\n",
    "}\n",
    "\n",
    "# Create the grid search object\n",
    "grid_search_rf = GridSearchCV(estimator=random_forest, param_grid=param_grid, cv=5)\n",
    "\n",
    "# Fit the grid search object to the data\n",
    "grid_search_rf.fit(X_train, y_train)\n",
    "\n",
    "# Print the best parameters and score\n",
    "print(grid_search_rf.best_params_)\n",
    "print(grid_search_rf.best_score_)"
   ]
  },
  {
   "cell_type": "code",
   "execution_count": null,
   "metadata": {
    "cell_id": "e3cfb4a8034042d1a9ff0983bb509af0",
    "deepnote_cell_type": "code",
    "deepnote_to_be_reexecuted": false,
    "execution_millis": 425,
    "execution_start": 1672666737189,
    "source_hash": "df408b22",
    "tags": []
   },
   "outputs": [],
   "source": [
    "rf_cv = RandomForestRegressor(**grid_search_rf.best_params_)\n",
    "rf_cv.fit(X_train, y_train)\n",
    "y_rf_predict = rf_cv.predict(X_test)"
   ]
  },
  {
   "cell_type": "markdown",
   "metadata": {
    "cell_id": "864bab788cfe4bef8e7c79aaeb4582d5",
    "deepnote_cell_type": "markdown",
    "tags": []
   },
   "source": [
    "Berikut ini adalah perbandingan hasil prediksi dengan nilai aktual"
   ]
  },
  {
   "cell_type": "code",
   "execution_count": null,
   "metadata": {
    "cell_id": "6c390e5cf182471f876c3ab62c5d7cfe",
    "deepnote_cell_type": "code",
    "deepnote_to_be_reexecuted": false,
    "execution_millis": 308,
    "execution_start": 1672666737624,
    "source_hash": "691498ab",
    "tags": []
   },
   "outputs": [],
   "source": [
    "plt.figure(figsize=(10,10))\n",
    "plt.scatter(y_test, y_rf_predict, c='crimson')\n",
    "\n",
    "p1 = max(max(y_rf_predict), max(y_test))\n",
    "p2 = min(min(y_rf_predict), min(y_test))\n",
    "plt.plot([p1, p2], [p1, p2], 'b-')\n",
    "plt.xlabel('Actual Sale Price Value', fontsize=15)\n",
    "plt.ylabel('Predicted Sale Price Value', fontsize=15)\n",
    "plt.axis('equal')\n",
    "plt.show()"
   ]
  },
  {
   "cell_type": "code",
   "execution_count": null,
   "metadata": {
    "cell_id": "e958b5c34b0e4dcebe262a92682ce578",
    "deepnote_cell_type": "code",
    "deepnote_to_be_reexecuted": false,
    "execution_millis": 7,
    "execution_start": 1672666737991,
    "source_hash": "17823732",
    "tags": []
   },
   "outputs": [],
   "source": [
    "print(\"Evaluation Metrics For Random Forest Regression Model:\")\n",
    "print('MAE: %.3f' % mean_absolute_error(y_test, y_rf_predict))\n",
    "print('MSE: %.3f' % mean_squared_error(y_test, y_rf_predict))\n",
    "print('RMSE: %.3f' % np.sqrt(mean_squared_error(y_test, y_rf_predict)))\n",
    "print('R-Squared: %.7f' % r2_score(y_test, y_rf_predict))"
   ]
  },
  {
   "cell_type": "markdown",
   "metadata": {
    "cell_id": "08865d8745cf43af9a2c79b16a639571",
    "deepnote_cell_type": "markdown",
    "tags": []
   },
   "source": [
    "> Hasil evaluasi menunjukkan bahwa model mampu menjelaskan sekitar 94.87% variability dari target variable. Nilai ini sudah tergolong sangat baik dan reliable. Selain itu, didapatkan nilai mean absolute error sebesar 12.71, mean squared error sebesar 376.99, dan root mean squared error sebesar 19.42."
   ]
  },
  {
   "cell_type": "markdown",
   "metadata": {
    "cell_id": "6b050873b58545efb6be8ac78bfbeff9",
    "deepnote_cell_type": "markdown",
    "tags": []
   },
   "source": [
    "5. MLP Regression"
   ]
  },
  {
   "cell_type": "code",
   "execution_count": null,
   "metadata": {
    "cell_id": "57566e2d80444bb6ba83ca6e52685670",
    "deepnote_cell_type": "code",
    "deepnote_to_be_reexecuted": false,
    "execution_millis": 307725,
    "execution_start": 1672666737997,
    "source_hash": "5f567e5f",
    "tags": []
   },
   "outputs": [],
   "source": [
    "from sklearn.neural_network import MLPRegressor\n",
    "mlp_reg = MLPRegressor()\n",
    "\n",
    "# Define the hyperparameter values to test\n",
    "param_grid = {\n",
    "    'hidden_layer_sizes': [3,5,10, 20],\n",
    "    'alpha': [0.1, 0.3, 0.5],\n",
    "    'learning_rate_init': [0.01, 0.1, 0.2],\n",
    "    'activation': ['relu', 'identity']\n",
    "}\n",
    "# Create the grid search object\n",
    "grid_search_nn = GridSearchCV(estimator=mlp_reg, param_grid=param_grid, cv=5, n_jobs=-1)\n",
    "\n",
    "# Fit the grid search object to the data\n",
    "grid_search_nn.fit(X_train, y_train)\n",
    "\n",
    "# Print the best parameters and score\n",
    "print(grid_search_nn.best_params_)\n",
    "print(grid_search_nn.best_score_)"
   ]
  },
  {
   "cell_type": "code",
   "execution_count": null,
   "metadata": {
    "cell_id": "5636852ce8b743a9a7d826e8faa38009",
    "deepnote_cell_type": "code",
    "deepnote_to_be_reexecuted": false,
    "execution_millis": 1068,
    "execution_start": 1672667045725,
    "source_hash": "aae763a5",
    "tags": []
   },
   "outputs": [],
   "source": [
    "mlp_cv = MLPRegressor(**grid_search_nn.best_params_)\n",
    "mlp_cv.fit(X_train, y_train)\n",
    "y_mlp_predict = mlp_cv.predict(X_test)"
   ]
  },
  {
   "cell_type": "markdown",
   "metadata": {
    "cell_id": "62517120a6de4d7c98d49c3eeae32e79",
    "deepnote_cell_type": "markdown",
    "tags": []
   },
   "source": [
    "Berikut ini adalah perbandingan hasil prediksi dengan nilai aktual"
   ]
  },
  {
   "cell_type": "code",
   "execution_count": null,
   "metadata": {
    "cell_id": "ec7f0572ddad4b7e805e0b305c353c87",
    "deepnote_cell_type": "code",
    "deepnote_to_be_reexecuted": false,
    "execution_millis": 261,
    "execution_start": 1672667125069,
    "source_hash": "bb37ed99",
    "tags": []
   },
   "outputs": [],
   "source": [
    "plt.figure(figsize=(10,10))\n",
    "plt.scatter(y_test, y_mlp_predict, c='crimson')\n",
    "\n",
    "p1 = max(max(y_rf_predict), max(y_test))\n",
    "p2 = min(min(y_rf_predict), min(y_test))\n",
    "plt.plot([p1, p2], [p1, p2], 'b-')\n",
    "plt.xlabel('Actual Sale Price Value', fontsize=15)\n",
    "plt.ylabel('Predicted Sale Price Value', fontsize=15)\n",
    "plt.axis('equal')\n",
    "plt.show()"
   ]
  },
  {
   "cell_type": "code",
   "execution_count": null,
   "metadata": {
    "cell_id": "af669e103c844d6c804fe088b12ca250",
    "deepnote_cell_type": "code",
    "deepnote_to_be_reexecuted": false,
    "execution_millis": 4,
    "execution_start": 1672667132290,
    "source_hash": "28ba42dc",
    "tags": []
   },
   "outputs": [],
   "source": [
    "print(\"Evaluation Metrics For MLP Regression Model:\")\n",
    "print('MAE: %.3f' % mean_absolute_error(y_test, y_mlp_predict))\n",
    "print('MSE: %.3f' % mean_squared_error(y_test, y_mlp_predict))\n",
    "print('RMSE: %.3f' % np.sqrt(mean_squared_error(y_test, y_mlp_predict)))\n",
    "print('R-Squared: %.7f' % r2_score(y_test, y_mlp_predict))"
   ]
  },
  {
   "cell_type": "markdown",
   "metadata": {
    "cell_id": "bd2270476408447b8474a106f3a7a0ff",
    "deepnote_cell_type": "markdown",
    "tags": []
   },
   "source": [
    "> Hasil evaluasi menunjukkan bahwa model mampu menjelaskan sekitar 82.79% variability dari target variable. Nilai ini sudah tergolong baik untuk model MLP regression. Selain itu, didapatkan nilai mean absolute error sebesar 26.13, mean squared error sebesar 1265.31, dan root mean squared error sebesar 35.57"
   ]
  },
  {
   "cell_type": "markdown",
   "metadata": {
    "cell_id": "380f0957817b4f049a79eac4c163664a",
    "deepnote_cell_type": "markdown",
    "tags": []
   },
   "source": [
    "### Classification\n"
   ]
  },
  {
   "cell_type": "markdown",
   "metadata": {
    "cell_id": "66115a0ff23747c48f06351420d0f4a0",
    "deepnote_cell_type": "markdown",
    "tags": []
   },
   "source": [
    "#### Persiapan\n"
   ]
  },
  {
   "cell_type": "code",
   "execution_count": null,
   "metadata": {
    "allow_embed": false,
    "cell_id": "a39fdcba943c4447a48b1b5875f6de96",
    "deepnote_cell_type": "code",
    "deepnote_to_be_reexecuted": false,
    "execution_millis": 4,
    "execution_start": 1672667134441,
    "source_hash": "97ec5b4c",
    "tags": []
   },
   "outputs": [],
   "source": [
    "# Encode target terlebih dahulu menjadi numerik dengan natural progression (label encoder)\n",
    "le = LabelEncoder()\n",
    "daegu_df[\"FamilyFriendly\"] = le.fit_transform(daegu_df[\"FamilyFriendly\"])\n",
    "\n",
    "X_raw = daegu_df.drop([\"FamilyFriendly\"],axis=1)\n",
    "y = daegu_df[\"FamilyFriendly\"]"
   ]
  },
  {
   "cell_type": "code",
   "execution_count": null,
   "metadata": {
    "cell_id": "00dfd318f586495d956bc57c46787775",
    "deepnote_cell_type": "code",
    "deepnote_to_be_reexecuted": false,
    "execution_millis": 2,
    "execution_start": 1672667136717,
    "source_hash": "d6e800d7",
    "tags": []
   },
   "outputs": [],
   "source": [
    "# Menghitung Komposisi Data\n",
    "Counter(y)"
   ]
  },
  {
   "cell_type": "markdown",
   "metadata": {
    "cell_id": "f4432a66e86d4301a10a22846be3dc72",
    "deepnote_cell_type": "markdown",
    "tags": []
   },
   "source": [
    "> Dapat kita lihat dari counter di atas, dataset cenderung memiliki komposisi label 4:1 (label 0 : label 1). Komposisi tersebut tergolong imbalanced karena perbedaan antarkelas cenderung signifikan, yakni hingga 2976. Untuk itu, kita dapat membuat Stratified Sampling dengan StratifiedKFold."
   ]
  },
  {
   "cell_type": "code",
   "execution_count": null,
   "metadata": {
    "cell_id": "3a86620ab73649f8b8a7c408bb6027ef",
    "deepnote_cell_type": "code",
    "deepnote_to_be_reexecuted": false,
    "execution_millis": 3,
    "execution_start": 1672667140611,
    "source_hash": "1e22c0f",
    "tags": []
   },
   "outputs": [],
   "source": [
    "# Mendefinisikan StratifiedKFold\n",
    "kf = StratifiedKFold(n_splits=5, shuffle=True, random_state=123)"
   ]
  },
  {
   "cell_type": "code",
   "execution_count": null,
   "metadata": {
    "allow_embed": false,
    "cell_id": "c7e0f1ad15964913a083a93c759484a4",
    "deepnote_cell_type": "code",
    "deepnote_to_be_reexecuted": false,
    "execution_millis": 5,
    "execution_start": 1672667142885,
    "source_hash": "2d54f3ea",
    "tags": []
   },
   "outputs": [],
   "source": [
    "# Mendefinisikan scaler yang digunakan\n",
    "scaler = MinMaxScaler()"
   ]
  },
  {
   "cell_type": "code",
   "execution_count": null,
   "metadata": {
    "allow_embed": false,
    "cell_id": "7805e36b335e4ec5800d5bd4594cb0b0",
    "deepnote_cell_type": "code",
    "deepnote_to_be_reexecuted": false,
    "execution_millis": 17294,
    "execution_start": 1672667144521,
    "source_hash": "3a63d261",
    "tags": []
   },
   "outputs": [],
   "source": [
    "# Menentukan nilai k terbaik dengan GridSearchCV\n",
    "\n",
    "# import Grid Search CV\n",
    "from sklearn.model_selection import GridSearchCV\n",
    "\n",
    "estimator_knn = Pipeline([\n",
    "    ('prep',scaler),\n",
    "    ('clf', KNeighborsClassifier())])\n",
    "\n",
    "# parameter yang akan di tunning\n",
    "tunned_params = [\n",
    "  { \n",
    "    'clf__n_neighbors': list(range(1, len(X_raw.columns)+1))\n",
    "  } \n",
    "]\n",
    "\n",
    "print(\"##### Tuning hyper-parameters model KNN #####\")\n",
    "print()\n",
    "\n",
    "clfKNN = GridSearchCV(estimator_knn, \n",
    "                        tunned_params,\n",
    "                        scoring=\"roc_auc\",\n",
    "                        cv=kf,\n",
    "                        verbose = 2\n",
    "                    )\n",
    "\n",
    "clfKNN.fit(X_raw, y)\n",
    "\n",
    "print(\"Best parameters set found on development set:\")\n",
    "print()\n",
    "print(clfKNN.best_params_)"
   ]
  },
  {
   "cell_type": "code",
   "execution_count": null,
   "metadata": {
    "allow_embed": false,
    "cell_id": "3597e82233b541cea1da95304f6bdc17",
    "deepnote_cell_type": "code",
    "deepnote_to_be_reexecuted": false,
    "execution_millis": 5,
    "execution_start": 1672667161818,
    "source_hash": "5b50523b",
    "tags": []
   },
   "outputs": [],
   "source": [
    "# Memilih 7 variable terbaik dari independent variable kita untuk dilatih pada model\n",
    "selector = SelectKBest(f_classif, k=7) # memilih 7 variable terbaik dari features kita\n",
    "X = selector.fit_transform(X_raw, y)"
   ]
  },
  {
   "cell_type": "code",
   "execution_count": null,
   "metadata": {
    "allow_embed": false,
    "cell_id": "10d1009d93bd41d19ae6bfc86b180329",
    "deepnote_cell_type": "code",
    "deepnote_to_be_reexecuted": false,
    "execution_millis": 2,
    "execution_start": 1672667165605,
    "source_hash": "ecde92e4",
    "tags": []
   },
   "outputs": [],
   "source": [
    "# Detail feature apa saja yang kita ambil\n",
    "input_features = selector.feature_names_in_\n",
    "selector.get_feature_names_out(input_features=input_features)"
   ]
  },
  {
   "cell_type": "code",
   "execution_count": null,
   "metadata": {
    "allow_embed": false,
    "cell_id": "794f8790ad6e4bfd9de959c9798dda91",
    "deepnote_cell_type": "code",
    "deepnote_to_be_reexecuted": false,
    "execution_millis": 1,
    "execution_start": 1672667168163,
    "source_hash": "f9f224f",
    "tags": []
   },
   "outputs": [],
   "source": [
    "# Mendefinisikan metriks ukur untuk StratifiedKFold\n",
    "def evaluate_classifier_performance(str_model, model):\n",
    "    print(f\"Hasil Evaluasi Model {str_model} Untuk Semua Fold\")\n",
    "    print()\n",
    "\n",
    "    accuracy_score = cross_val_score(model, X, y, cv= kf, scoring=\"accuracy\")\n",
    "    f1_macro = cross_val_score(model, X, y, cv= kf, scoring=\"f1_macro\")\n",
    "    f1_micro = cross_val_score(model, X, y, cv= kf, scoring=\"f1_micro\")\n",
    "    precision_macro = cross_val_score(model, X, y, cv= kf, scoring=\"precision_macro\")\n",
    "    precision_micro = cross_val_score(model, X, y, cv= kf, scoring=\"precision_micro\")\n",
    "    recall_macro = cross_val_score(model, X, y, cv= kf, scoring=\"recall_macro\")\n",
    "    recall_micro = cross_val_score(model, X, y, cv= kf, scoring=\"recall_micro\")\n",
    "  \n",
    "    print(\"Penghitungan Makro dan Mikro pada Model Klasifikasi: \")\n",
    "    print(f'Accuracy Average: {\"{:.2f}\".format(accuracy_score.mean())}')\n",
    "    print(f'F1 Macro Average: {\"{:.2f}\".format(f1_macro.mean())}')\n",
    "    print(f'F1 Micro Average:  {\"{:.2f}\".format(f1_micro.mean())}')\n",
    "    print(f'Precision Macro Average: {\"{:.2f}\".format(precision_macro.mean())}')\n",
    "    print(f'Precision Micro Average: {\"{:.2f}\".format(precision_micro.mean())}')\n",
    "    print(f'Recall Macro Average: {\"{:.2f}\".format(recall_macro.mean())}')\n",
    "    print(f'Recall Micro Average: {\"{:.2f}\".format(recall_micro.mean())}')\n",
    "    print()"
   ]
  },
  {
   "cell_type": "markdown",
   "metadata": {
    "cell_id": "9c08dab1154d4a4d8eb7534e1fd73a3c",
    "deepnote_cell_type": "markdown",
    "tags": []
   },
   "source": [
    "#### Implementasi Naive Bayes"
   ]
  },
  {
   "cell_type": "code",
   "execution_count": null,
   "metadata": {
    "allow_embed": false,
    "cell_id": "99778e47a44040aaa5db37e8cc87799e",
    "deepnote_cell_type": "code",
    "deepnote_to_be_reexecuted": false,
    "execution_millis": 250,
    "execution_start": 1672667170870,
    "source_hash": "904daa66",
    "tags": []
   },
   "outputs": [],
   "source": [
    "# Mengaktifkan/memanggil/membuat fungsi klasifikasi Naive Bayes\n",
    "modelnb = GaussianNB()\n",
    "\n",
    "pipeline_gaussian = Pipeline([\n",
    "    ('prep',MinMaxScaler()),\n",
    "    ('clf', modelnb)])\n",
    "\n",
    "evaluate_classifier_performance(\"Gaussian Naives Bayes\", pipeline_gaussian)"
   ]
  },
  {
   "cell_type": "markdown",
   "metadata": {
    "cell_id": "55964b816cc740b986a781ae952a9340",
    "deepnote_cell_type": "markdown",
    "tags": []
   },
   "source": [
    "#### Implementasi KNN"
   ]
  },
  {
   "cell_type": "code",
   "execution_count": null,
   "metadata": {
    "allow_embed": false,
    "cell_id": "8d02cd70cc8c4946b90b1f0aca6051a2",
    "deepnote_cell_type": "code",
    "deepnote_to_be_reexecuted": false,
    "execution_millis": 2287,
    "execution_start": 1672667173321,
    "source_hash": "c0062f18",
    "tags": []
   },
   "outputs": [],
   "source": [
    "KNN = KNeighborsClassifier(n_neighbors=7)\n",
    "\n",
    "pipeline_knn = Pipeline([\n",
    "    ('prep',scaler),\n",
    "    ('clf', KNN)])\n",
    "\n",
    "evaluate_classifier_performance(\"KNearestNeighbor\", pipeline_knn)"
   ]
  },
  {
   "cell_type": "markdown",
   "metadata": {
    "cell_id": "e3868c8390b04a80b5a402fc9684fe2a",
    "deepnote_cell_type": "markdown",
    "tags": []
   },
   "source": [
    "#### Implementasi MLPClassifier"
   ]
  },
  {
   "cell_type": "code",
   "execution_count": null,
   "metadata": {
    "allow_embed": false,
    "cell_id": "25e501f19e5b4fa281b6bf17914fe030",
    "deepnote_cell_type": "code",
    "deepnote_to_be_reexecuted": false,
    "execution_millis": 0,
    "execution_start": 1672667177472,
    "source_hash": "614a56ae",
    "tags": []
   },
   "outputs": [],
   "source": [
    "# classifier dengan activation function 'logistic'\n",
    "classifier_logistic = MLPClassifier(solver='adam', alpha=1e-5, random_state=42,\n",
    "                           hidden_layer_sizes=50, max_iter=150, \n",
    "                           learning_rate_init=0.2, activation='logistic')\n",
    "\n",
    "# classifier dengan activation function 'relu'\n",
    "classifier_relu = MLPClassifier(solver='adam', alpha=1e-5, random_state=42,\n",
    "                           hidden_layer_sizes=50, max_iter=150, \n",
    "                           learning_rate_init=0.2, activation='relu')"
   ]
  },
  {
   "cell_type": "code",
   "execution_count": null,
   "metadata": {
    "cell_id": "bcde35aae8824f14a56f155fb6094a7d",
    "deepnote_cell_type": "code",
    "deepnote_to_be_reexecuted": false,
    "execution_millis": 0,
    "execution_start": 1672667179763,
    "source_hash": "99a8c45a",
    "tags": []
   },
   "outputs": [],
   "source": [
    "# Buat Pipeline\n",
    "pipeline_relu = Pipeline([\n",
    "    ('prep',scaler),\n",
    "    ('clf', classifier_relu)])\n",
    "\n",
    "pipeline_logistic = Pipeline([\n",
    "    ('prep',scaler),\n",
    "    ('clf', classifier_logistic)])"
   ]
  },
  {
   "cell_type": "code",
   "execution_count": null,
   "metadata": {
    "cell_id": "1cde69ae648f4dbfadfd000736148218",
    "deepnote_cell_type": "code",
    "deepnote_to_be_reexecuted": false,
    "execution_millis": 622437,
    "execution_start": 1672667181416,
    "source_hash": "f8ea6d9e",
    "tags": []
   },
   "outputs": [],
   "source": [
    "print(\"Metrics evaluasi untuk model dengan activation function 'logistic'\")\n",
    "evaluate_classifier_performance(\"MLP Logistic\", pipeline_logistic)"
   ]
  },
  {
   "cell_type": "code",
   "execution_count": null,
   "metadata": {
    "allow_embed": false,
    "cell_id": "2d74bbe0e83d42dea7e501a7a1b0d7cd",
    "deepnote_cell_type": "code",
    "deepnote_to_be_reexecuted": true,
    "execution_millis": 221281,
    "execution_start": 1672637399101,
    "source_hash": "79b0203a",
    "tags": []
   },
   "outputs": [],
   "source": [
    "print(\"Metrics evaluasi untuk model dengan activation function 'relu'\")\n",
    "evaluate_classifier_performance(\"MLP ReLU\", pipeline_relu)"
   ]
  },
  {
   "cell_type": "code",
   "execution_count": null,
   "metadata": {
    "allow_embed": false,
    "cell_id": "5440d5a9c6c94564b69d488ca9a6732b",
    "deepnote_cell_type": "code",
    "deepnote_to_be_reexecuted": true,
    "execution_millis": 0,
    "execution_start": 1672637620380,
    "source_hash": "ca8c3737",
    "tags": []
   },
   "outputs": [],
   "source": [
    "for i in daegu_df.columns:\n",
    "    if len(daegu_df[i].unique())==1:\n",
    "        print(i)"
   ]
  },
  {
   "cell_type": "code",
   "execution_count": null,
   "metadata": {
    "allow_embed": false,
    "cell_id": "ffef91f3ef224e5084d259aa78732ebe",
    "deepnote_cell_type": "code",
    "deepnote_to_be_reexecuted": true,
    "execution_millis": 1,
    "execution_start": 1672637620380,
    "source_hash": "fece141b",
    "tags": []
   },
   "outputs": [],
   "source": [
    "counter_y = Counter(y)\n",
    "print(counter_y)"
   ]
  },
  {
   "cell_type": "code",
   "execution_count": null,
   "metadata": {
    "allow_embed": false,
    "cell_id": "d0beb72f955b4d9794ad160210b46b34",
    "deepnote_cell_type": "code",
    "deepnote_to_be_reexecuted": true,
    "execution_millis": 331,
    "execution_start": 1672637620381,
    "source_hash": "45d433ff",
    "tags": []
   },
   "outputs": [],
   "source": [
    "# scatter plot\n",
    "pyplot.figure(figsize=(12, 10))\n",
    "\n",
    "for label, _ in counter_y.items():\n",
    "    row_ix = where(y == label)[0]\n",
    "    pyplot.scatter(X[row_ix, 0], X[row_ix, 1], label=str(label))\n",
    "    pyplot.legend()\n",
    "pyplot.show()"
   ]
  },
  {
   "cell_type": "code",
   "execution_count": null,
   "metadata": {
    "allow_embed": false,
    "cell_id": "8fba9c7b52c4407a9c973f295020807b",
    "deepnote_cell_type": "code",
    "deepnote_to_be_reexecuted": true,
    "execution_millis": 12,
    "execution_start": 1672637620712,
    "source_hash": "7a094951",
    "tags": []
   },
   "outputs": [],
   "source": [
    "# transform the dataset\n",
    "smote = SMOTE()"
   ]
  },
  {
   "cell_type": "code",
   "execution_count": null,
   "metadata": {
    "cell_id": "0670b4e4d6494544a3bac1353bbc0c6d",
    "deepnote_cell_type": "code",
    "deepnote_to_be_reexecuted": true,
    "execution_millis": 1,
    "execution_start": 1672637620724,
    "source_hash": "876fc88f",
    "tags": []
   },
   "outputs": [],
   "source": [
    "# Buat Pipeline\n",
    "from imblearn.pipeline import Pipeline\n",
    "\n",
    "pipeline_relu_over = Pipeline([\n",
    "    ('prep',scaler),\n",
    "    ('ovs', smote),\n",
    "    ('clf', classifier_relu)])"
   ]
  },
  {
   "cell_type": "code",
   "execution_count": null,
   "metadata": {
    "allow_embed": false,
    "cell_id": "8c481825a50242619e7d52ef0c90569c",
    "deepnote_cell_type": "code",
    "deepnote_table_invalid": false,
    "deepnote_table_loading": false,
    "deepnote_table_state": {
     "filters": [],
     "pageIndex": 0,
     "pageSize": 25,
     "sortBy": []
    },
    "deepnote_to_be_reexecuted": true,
    "execution_millis": 351978,
    "execution_start": 1672637620725,
    "source_hash": "c791ecac",
    "tags": []
   },
   "outputs": [],
   "source": [
    "# Evaluasi relu dengan oversampling\n",
    "np.seterr(under='ignore') # Untuk mengignore underflow error\n",
    "evaluate_classifier_performance(\"MLP ReLU dengan Oversampling\", pipeline_relu_over)"
   ]
  },
  {
   "cell_type": "code",
   "execution_count": null,
   "metadata": {
    "allow_embed": false,
    "cell_id": "6748ab0e9e4a4f669a54dfaa5773daed",
    "deepnote_cell_type": "code",
    "deepnote_to_be_reexecuted": true,
    "execution_millis": 0,
    "execution_start": 1672637972702,
    "source_hash": "aa1caae6",
    "tags": []
   },
   "outputs": [],
   "source": [
    "# define undersample strategy\n",
    "undersample = RandomUnderSampler(sampling_strategy='majority')"
   ]
  },
  {
   "cell_type": "code",
   "execution_count": null,
   "metadata": {
    "cell_id": "52d51f8ca7ab465d9d6210fc4e60785d",
    "deepnote_cell_type": "code",
    "deepnote_to_be_reexecuted": true,
    "execution_millis": 0,
    "execution_start": 1672637972702,
    "source_hash": "360018a3",
    "tags": []
   },
   "outputs": [],
   "source": [
    "# Buat Pipeline\n",
    "from imblearn.pipeline import Pipeline\n",
    "\n",
    "pipeline_relu_under = Pipeline([\n",
    "    ('prep',scaler),\n",
    "    ('uns', undersample),\n",
    "    ('clf', classifier_relu)])"
   ]
  },
  {
   "cell_type": "code",
   "execution_count": null,
   "metadata": {
    "allow_embed": false,
    "cell_id": "dc0c20d1fa174863b588148963c73469",
    "deepnote_cell_type": "code",
    "deepnote_to_be_reexecuted": true,
    "execution_millis": 136396,
    "execution_start": 1672637972703,
    "source_hash": "d47d93f0",
    "tags": []
   },
   "outputs": [],
   "source": [
    "# Evaluasi relu dengan oversampling\n",
    "evaluate_classifier_performance(\"MLP ReLU dengan Undersampling\", pipeline_relu_under)"
   ]
  },
  {
   "cell_type": "markdown",
   "metadata": {
    "cell_id": "f3141a8c8c994e8ea56e004ea54f0c2a",
    "deepnote_cell_type": "markdown",
    "tags": []
   },
   "source": [
    "### K-Means Clustering"
   ]
  },
  {
   "cell_type": "markdown",
   "metadata": {
    "cell_id": "d55b810f6e964ba68a398f6366eed472",
    "deepnote_cell_type": "markdown",
    "tags": []
   },
   "source": [
    "#### Pemilihan Fitur"
   ]
  },
  {
   "cell_type": "code",
   "execution_count": null,
   "metadata": {
    "cell_id": "c9be88d2ef2840b3923b993ba48731f5",
    "deepnote_cell_type": "code",
    "deepnote_to_be_reexecuted": true,
    "execution_millis": 1,
    "execution_start": 1672638109097,
    "source_hash": "ab716268",
    "tags": []
   },
   "outputs": [],
   "source": [
    "cluster_df = daegu_df[['SalePrice', 'Size(sqf)', 'Floor']]"
   ]
  },
  {
   "cell_type": "markdown",
   "metadata": {
    "cell_id": "5abb17553e724416ae414773d77ab203",
    "deepnote_cell_type": "markdown",
    "tags": []
   },
   "source": [
    "Kode di atas bertujuan untuk memilih fitur yang akan digunakan untuk clustering. Pemilihan fitur didasarkan pada kondisi fisik dari apartemen beserta harga apartemen tersebut."
   ]
  },
  {
   "cell_type": "markdown",
   "metadata": {
    "cell_id": "88f75e948b144407aa51f0577e1817f7",
    "deepnote_cell_type": "markdown",
    "tags": []
   },
   "source": [
    "#### Penentuan Jumlah Cluster"
   ]
  },
  {
   "cell_type": "code",
   "execution_count": null,
   "metadata": {
    "cell_id": "2be506984a4b4687a267217a0cfd560b",
    "deepnote_cell_type": "code",
    "deepnote_to_be_reexecuted": true,
    "execution_millis": 5270,
    "execution_start": 1672638109098,
    "source_hash": "945bd35",
    "tags": []
   },
   "outputs": [],
   "source": [
    "from sklearn.cluster import KMeans\n",
    "distortions = []\n",
    "K = range(1,15)\n",
    "for k in K:\n",
    "    kmeanModel = KMeans(n_clusters=k)\n",
    "    kmeanModel.fit(cluster_df)\n",
    "    distortions.append(kmeanModel.inertia_)\n",
    "\n",
    "plt.figure(figsize=(16,8))\n",
    "plt.plot(K, distortions, 'bx-')\n",
    "plt.xlabel('k')\n",
    "plt.ylabel('Distortion')\n",
    "plt.title('The Elbow Method showing the optimal k')\n",
    "plt.show()\n"
   ]
  },
  {
   "cell_type": "markdown",
   "metadata": {
    "cell_id": "8e8e827dcd684cd1843bc39cb76bfbb7",
    "deepnote_cell_type": "markdown",
    "tags": []
   },
   "source": [
    "Gambar di atas menunjukkan grafik elbow method untuk clustering dengan K-Means. Berdasarkan elbow method di atas terjadi perubahan signifikan saat jumlah cluster = 2 dan perubahan menjadi kurang signifikan setelah jumlah cluster > 4.  "
   ]
  },
  {
   "cell_type": "code",
   "execution_count": null,
   "metadata": {
    "cell_id": "16045cb9f44149749325ff7da3ea9d01",
    "deepnote_cell_type": "code",
    "deepnote_to_be_reexecuted": true,
    "execution_millis": 44314,
    "execution_start": 1672638114383,
    "source_hash": "f131e6a4",
    "tags": []
   },
   "outputs": [],
   "source": [
    "from sklearn.metrics import silhouette_samples, silhouette_score\n",
    "from yellowbrick.cluster import SilhouetteVisualizer\n",
    "fig, ax = plt.subplots(3, 2, figsize=(20,10))\n",
    "silhouette = []\n",
    "for k in [2, 3, 4, 5, 6, 7, 8, 9, 10, 11, 12, 13, 14, 15]:\n",
    "    # Create KMeans instance for different number of clusters\n",
    "    clusterer = KMeans(n_clusters = k, n_init=10)\n",
    "\n",
    "    # Draw silhouette diagram\n",
    "    visualizer = SilhouetteVisualizer(clusterer, colors = 'yellowbrick')\n",
    "    visualizer.fit(cluster_df)\n",
    "    visualizer.show()\n",
    "\n",
    "    # Compute silhoutte score\n",
    "    # This gives a perspective into the density and separation of the formed clusters\n",
    "    cluster_labels = clusterer.fit_predict(cluster_df)\n",
    "    silhouette_avg = silhouette_score(cluster_df, cluster_labels)\n",
    "    \n",
    "    print(\n",
    "        \"For n_clusters =\",\n",
    "        k,\n",
    "        \"The average silhouette_coefficient is :\",\n",
    "        silhouette_avg,\n",
    "    )"
   ]
  },
  {
   "cell_type": "markdown",
   "metadata": {
    "cell_id": "0e0e7162e50846e4abbe6d00d223895e",
    "deepnote_cell_type": "markdown",
    "tags": []
   },
   "source": [
    "Pada kode di atas dilakukan perhitungan silhouette coefficient antara 2 - 15 cluster. Berdasarkan hasil perhitungan silhouette coefficient, didapatkan hasil bahwa jumlah cluster 2 memiliki silhouette coefficient terbesar. Selain itu, pembagian cluster juga terlihat paling merata di antara gambar jumlah cluster lainnya. Oleh karena itu, dipilih jumlah cluster / K = 2 untuk K-Means."
   ]
  },
  {
   "cell_type": "markdown",
   "metadata": {
    "cell_id": "91b1c29006d24fb49299a371c28901e5",
    "deepnote_cell_type": "markdown",
    "tags": []
   },
   "source": [
    "#### Membuat Model K-Means dengan jumlah cluster = 2"
   ]
  },
  {
   "cell_type": "code",
   "execution_count": null,
   "metadata": {
    "cell_id": "90728064e0a1438dbd0dfbc45b22163d",
    "deepnote_cell_type": "code",
    "deepnote_table_loading": false,
    "deepnote_table_state": {
     "filters": [],
     "pageIndex": 0,
     "pageSize": 10,
     "sortBy": []
    },
    "deepnote_to_be_reexecuted": true,
    "execution_millis": 28445686,
    "execution_start": 1672666603992,
    "source_hash": "54d72229",
    "tags": []
   },
   "outputs": [],
   "source": [
    "kmeans = KMeans(n_clusters=2)\n",
    "cluster_assignment = kmeans.fit_predict(cluster_df)\n",
    "data_with_clusters = pd.DataFrame(cluster_df.copy(), columns=('SalePrice', 'Size(sqf)', 'Floor'))\n",
    "data_with_clusters['Clusters'] = cluster_assignment \n",
    "data_with_clusters"
   ]
  },
  {
   "cell_type": "markdown",
   "metadata": {
    "cell_id": "80a2a31375724462861bc9c419f9e1d2",
    "deepnote_cell_type": "markdown",
    "tags": []
   },
   "source": [
    "Dapat dilihat pada tabel di atas pembagian cluster dari setiap data."
   ]
  },
  {
   "cell_type": "code",
   "execution_count": null,
   "metadata": {
    "cell_id": "98eddbba71b94ac48531351255ca73db",
    "deepnote_cell_type": "code",
    "deepnote_to_be_reexecuted": true,
    "execution_millis": 1498,
    "execution_start": 1672666587944,
    "source_hash": "c6c52127",
    "tags": []
   },
   "outputs": [],
   "source": [
    "# Create figure\n",
    "fig = plt.figure(figsize = (15, 10))\n",
    "ax = plt.axes(projection =\"3d\")\n",
    "\n",
    "# Prepare data\n",
    "x = data_with_clusters['SalePrice']\n",
    "y = data_with_clusters['Size(sqf)']\n",
    "z = data_with_clusters['Floor']\n",
    "cluster = data_with_clusters['Clusters']\n",
    " \n",
    "# Create plot\n",
    "ax.scatter(x, y, z, c = cluster, cmap = \"rainbow\")\n",
    "plt.title(\"Clusters of Apartment\")\n",
    "ax.set_xlabel('Harga')\n",
    "ax.set_ylabel('Ukuran (sqf)')\n",
    "ax.set_zlabel('Lantai')\n",
    "\n",
    "# Show plot\n",
    "plt.show()"
   ]
  },
  {
   "cell_type": "markdown",
   "metadata": {
    "cell_id": "c2d0b59918eb4b09a6a79cc1e47e71a1",
    "deepnote_cell_type": "markdown",
    "tags": []
   },
   "source": [
    "Dapat dilihat dari gambar di atas pembagian cluster pada bidang 3D."
   ]
  },
  {
   "cell_type": "code",
   "execution_count": null,
   "metadata": {
    "cell_id": "43144b9b3c9a4f79a212ed4ff4b0db3e",
    "deepnote_cell_type": "code",
    "deepnote_to_be_reexecuted": true,
    "execution_millis": 109,
    "execution_start": 1672638159186,
    "source_hash": "fbf1795d",
    "tags": []
   },
   "outputs": [],
   "source": [
    "jumlah_klaster = data_with_clusters.groupby(['Clusters']).size().rename('Cluster').reset_index()\n",
    "data_jumlah_klaster = pd.DataFrame(jumlah_klaster)\n",
    "data_jumlah_klaster"
   ]
  },
  {
   "cell_type": "markdown",
   "metadata": {
    "cell_id": "37574d5c15214147975bdd6711087bf4",
    "deepnote_cell_type": "markdown",
    "tags": []
   },
   "source": [
    "Dapat dilihat dari tabel di atas jumlah apartemen pada setiap cluster. "
   ]
  },
  {
   "cell_type": "code",
   "execution_count": null,
   "metadata": {
    "cell_id": "9020d849e9ac4bd4bea86ae8acd2f640",
    "deepnote_cell_type": "code",
    "deepnote_to_be_reexecuted": true,
    "execution_millis": 537,
    "execution_start": 1672638159303,
    "source_hash": "a8aff6c7",
    "tags": []
   },
   "outputs": [],
   "source": [
    "data_jumlah_klaster.plot(kind='pie', y='Cluster', autopct='%1.2f%%')"
   ]
  },
  {
   "cell_type": "markdown",
   "metadata": {
    "cell_id": "c35d451dc41546e0b24d5417136f8b19",
    "deepnote_cell_type": "markdown",
    "tags": []
   },
   "source": [
    "Dapat dilihat dari gambar pie chart di atas persentase dari kedua cluster."
   ]
  },
  {
   "cell_type": "markdown",
   "metadata": {
    "cell_id": "906df1d1992f4ef4be8d7bad8f39c346",
    "deepnote_cell_type": "markdown",
    "tags": []
   },
   "source": [
    "#### Visualisasi Cluster Untuk Setiap Fitur"
   ]
  },
  {
   "cell_type": "code",
   "execution_count": null,
   "metadata": {
    "cell_id": "fc0192a5ddeb4d97a8f98fb0f24c5c05",
    "deepnote_cell_type": "code",
    "deepnote_to_be_reexecuted": true,
    "execution_millis": 164,
    "execution_start": 1672638159676,
    "source_hash": "776f8d6b",
    "tags": []
   },
   "outputs": [],
   "source": [
    "harga_klaster = data_with_clusters.groupby(['Clusters'])['SalePrice'].mean().reset_index()\n",
    "data_harga_klaster = pd.DataFrame(harga_klaster)\n",
    "data_harga_klaster"
   ]
  },
  {
   "cell_type": "code",
   "execution_count": null,
   "metadata": {
    "cell_id": "2e0139d0f9084d9b9cc0037b735eee9e",
    "deepnote_cell_type": "code",
    "deepnote_to_be_reexecuted": true,
    "execution_millis": 132,
    "execution_start": 1672638159708,
    "source_hash": "879bb8b7",
    "tags": []
   },
   "outputs": [],
   "source": [
    "fig = px.bar(\n",
    "    harga_klaster, \n",
    "    x=\"Clusters\", \n",
    "    y=\"SalePrice\", \n",
    "    title=\"Grafik rata-rata harga jual apartemen per cluster\")\n",
    "fig.show()"
   ]
  },
  {
   "cell_type": "markdown",
   "metadata": {
    "cell_id": "f77c8a889cd6436bb4b63eb0e5057e7f",
    "deepnote_cell_type": "markdown",
    "tags": []
   },
   "source": [
    "Tabel dan grafik di atas menunjukkan rata-rata harga jual dari kedua cluster."
   ]
  },
  {
   "cell_type": "code",
   "execution_count": null,
   "metadata": {
    "cell_id": "a64e0fc5cbdc4c288afb4d8a253b4c9e",
    "deepnote_cell_type": "code",
    "deepnote_to_be_reexecuted": true,
    "execution_millis": 120,
    "execution_start": 1672638159721,
    "source_hash": "856e08f9",
    "tags": []
   },
   "outputs": [],
   "source": [
    "ukuran_klaster = data_with_clusters.groupby(['Clusters'])['Size(sqf)'].mean().reset_index()\n",
    "data_ukuran_klaster = pd.DataFrame(ukuran_klaster)\n",
    "data_ukuran_klaster"
   ]
  },
  {
   "cell_type": "code",
   "execution_count": null,
   "metadata": {
    "cell_id": "529c3a90d49741f49dbce62e8d363a86",
    "deepnote_cell_type": "code",
    "deepnote_to_be_reexecuted": true,
    "execution_millis": 120,
    "execution_start": 1672638159738,
    "source_hash": "5a424aff",
    "tags": []
   },
   "outputs": [],
   "source": [
    "fig = px.bar(\n",
    "    ukuran_klaster, \n",
    "    x=\"Clusters\", \n",
    "    y=\"Size(sqf)\", \n",
    "    title=\"Grafik rata-rata ukuran (sqf) apartemen per cluster\")\n",
    "fig.show()"
   ]
  },
  {
   "cell_type": "markdown",
   "metadata": {
    "cell_id": "31db0521997543579c2d8de8b0ad882e",
    "deepnote_cell_type": "markdown",
    "tags": []
   },
   "source": [
    "Tabel dan grafik di atas menunjukkan rata-rata harga ukuran dari kedua cluster."
   ]
  },
  {
   "cell_type": "code",
   "execution_count": null,
   "metadata": {
    "cell_id": "b404b4e298754c1b91336a9f18a407e7",
    "deepnote_cell_type": "code",
    "deepnote_to_be_reexecuted": true,
    "execution_millis": 10,
    "execution_start": 1672638159848,
    "source_hash": "8f8de188",
    "tags": []
   },
   "outputs": [],
   "source": [
    "tinggi_klaster = data_with_clusters.groupby(['Clusters'])['Floor'].mean().reset_index()\n",
    "data_tinggi_klaster = pd.DataFrame(tinggi_klaster)\n",
    "data_tinggi_klaster"
   ]
  },
  {
   "cell_type": "code",
   "execution_count": null,
   "metadata": {
    "cell_id": "5fd6b36e0f7d4df28e865f9b6a586299",
    "deepnote_cell_type": "code",
    "deepnote_to_be_reexecuted": true,
    "execution_millis": 10,
    "execution_start": 1672638159849,
    "source_hash": "5ba22143",
    "tags": []
   },
   "outputs": [],
   "source": [
    "fig = px.bar(\n",
    "    tinggi_klaster, \n",
    "    x=\"Clusters\", \n",
    "    y=\"Floor\", \n",
    "    title=\"Grafik rata-rata jumlah lantai apartemen per cluster\")\n",
    "fig.show()"
   ]
  },
  {
   "cell_type": "markdown",
   "metadata": {
    "cell_id": "8c209680e534471f8d096c64e4fa6d4d",
    "deepnote_cell_type": "markdown",
    "tags": []
   },
   "source": [
    "Tabel dan grafik di atas menunjukkan rata-rata jumlah lantai dari kedua cluster."
   ]
  },
  {
   "cell_type": "markdown",
   "metadata": {
    "cell_id": "ec43b535560b4854a7dfd6754fa02c70",
    "deepnote_cell_type": "markdown",
    "tags": []
   },
   "source": [
    "### Agglomerative Clustering"
   ]
  },
  {
   "cell_type": "markdown",
   "metadata": {
    "cell_id": "f559304e0c9544f4acbc17c18f606bae",
    "deepnote_cell_type": "markdown",
    "tags": []
   },
   "source": [
    "#### Penentuan Jumlah Cluster"
   ]
  },
  {
   "cell_type": "code",
   "execution_count": null,
   "metadata": {
    "cell_id": "2e3446649a384e61b4079ea4ab8e8713",
    "deepnote_cell_type": "code",
    "deepnote_to_be_reexecuted": true,
    "execution_millis": 1516,
    "execution_start": 1672644007679,
    "source_hash": "74d7b913",
    "tags": []
   },
   "outputs": [],
   "source": [
    "model_ac  = AgglomerativeClustering(distance_threshold = 0, n_clusters = None, linkage = 'ward', affinity = 'euclidean')  \n",
    "clustering = model_ac.fit(cluster_df)\n",
    "clustering.labels_"
   ]
  },
  {
   "cell_type": "code",
   "execution_count": null,
   "metadata": {
    "cell_id": "5c5fc0ad1b134624a62b2699e72a9e1a",
    "deepnote_cell_type": "code",
    "deepnote_to_be_reexecuted": true,
    "execution_millis": 2009014,
    "execution_start": 1672644039660,
    "source_hash": "f3ee4e38",
    "tags": []
   },
   "outputs": [],
   "source": [
    "import scipy.cluster.hierarchy as sch\n",
    "dendrogram = sch.dendrogram(sch.linkage(cluster_df, method='ward'))"
   ]
  },
  {
   "cell_type": "markdown",
   "metadata": {
    "cell_id": "2494c8fe183b4b0fb3314f587a3c4a61",
    "deepnote_cell_type": "markdown",
    "tags": []
   },
   "source": [
    "Berdasarkan hasil dendrogram di atas, dapat dilihat bahwa garis vertikal terpanjang adalah garis yang menghubungkan dua buah cluster berwarna hijau dan merah sehingga dapat disimpulkan bahwa jumlah cluster optimal yang bisa didapatkan adalah 2 cluster."
   ]
  },
  {
   "cell_type": "markdown",
   "metadata": {
    "cell_id": "f58f43596bf04c539e4c38c8832c7d89",
    "deepnote_cell_type": "markdown",
    "tags": []
   },
   "source": [
    "#### Membuat Model Agglomerative Clustering"
   ]
  },
  {
   "cell_type": "code",
   "execution_count": null,
   "metadata": {
    "cell_id": "7959009bd86c4f2aacf0ad2865817759",
    "deepnote_cell_type": "code",
    "deepnote_to_be_reexecuted": true,
    "execution_millis": 938,
    "execution_start": 1672647572265,
    "source_hash": "405e228e",
    "tags": []
   },
   "outputs": [],
   "source": [
    "clustering = AgglomerativeClustering(n_clusters=2, linkage='ward', affinity='euclidean')  \n",
    "ac_clustering = clustering.fit_predict(cluster_df)"
   ]
  },
  {
   "cell_type": "code",
   "execution_count": null,
   "metadata": {
    "cell_id": "49e7fe44aa22457d9046cd5b9693cff9",
    "deepnote_cell_type": "code",
    "deepnote_to_be_reexecuted": true,
    "execution_millis": 105,
    "execution_start": 1672647576190,
    "source_hash": "a6de0486",
    "tags": []
   },
   "outputs": [],
   "source": [
    "data_with_clusters_ac = pd.DataFrame(cluster_df.copy(), columns=('SalePrice', 'Size(sqf)', 'Floor'))\n",
    "data_with_clusters_ac['Clusters'] = ac_clustering\n",
    "data_with_clusters_ac"
   ]
  },
  {
   "cell_type": "markdown",
   "metadata": {
    "cell_id": "6252da874bd749cb981fac1393266053",
    "deepnote_cell_type": "markdown",
    "tags": []
   },
   "source": [
    "Tabel di atas menunjukkan data apartemen beserta pengelompokkan tiap data ke dalam cluster sesuai agglomerative clustering model."
   ]
  },
  {
   "cell_type": "code",
   "execution_count": null,
   "metadata": {
    "cell_id": "69462016144e44c2b99c574761d021a6",
    "deepnote_cell_type": "code",
    "deepnote_to_be_reexecuted": true,
    "execution_millis": 1024,
    "execution_start": 1672650586675,
    "source_hash": "52a6052a",
    "tags": []
   },
   "outputs": [],
   "source": [
    "# Create figure\n",
    "fig = plt.figure(figsize = (15, 10))\n",
    "ax = plt.axes(projection =\"3d\")\n",
    "\n",
    "# Prepare data\n",
    "x = data_with_clusters_ac['SalePrice']\n",
    "y = data_with_clusters_ac['Size(sqf)']\n",
    "z = data_with_clusters_ac['Floor']\n",
    "cluster = data_with_clusters_ac['Clusters']\n",
    "\n",
    "# Create plot\n",
    "ax.scatter(x, y, z, c = clustering.labels_, cmap = \"rainbow\")\n",
    "plt.title(\"Clusters of Apartment\")\n",
    "ax.set_xlabel('Harga')\n",
    "ax.set_ylabel('Ukuran (sqf)')\n",
    "ax.set_zlabel('Lantai')\n",
    "\n",
    "# Show plot\n",
    "plt.show()"
   ]
  },
  {
   "cell_type": "markdown",
   "metadata": {
    "cell_id": "d7008286e9f943a9a15e05af8b08d91c",
    "deepnote_cell_type": "markdown",
    "tags": []
   },
   "source": [
    "Gambar di atas menunjukkan pembagian cluster apartemen pada bidang 3D."
   ]
  },
  {
   "cell_type": "code",
   "execution_count": null,
   "metadata": {
    "cell_id": "e39fb053a2624b729137ebf6e2e9a7eb",
    "deepnote_cell_type": "code",
    "deepnote_to_be_reexecuted": true,
    "execution_millis": 118,
    "execution_start": 1672647924562,
    "source_hash": "4b0094ca",
    "tags": []
   },
   "outputs": [],
   "source": [
    "jumlah_klaster_ac = data_with_clusters_ac.groupby(['Clusters']).size().rename('Cluster').reset_index()\n",
    "data_jumlah_klaster_ac = pd.DataFrame(jumlah_klaster_ac)\n",
    "data_jumlah_klaster_ac"
   ]
  },
  {
   "cell_type": "markdown",
   "metadata": {
    "cell_id": "3f616c34459e40258cdfe13706649a1d",
    "deepnote_cell_type": "markdown",
    "tags": []
   },
   "source": [
    "Tabel di atas menunjukkan jumlah apartemen pada setiap cluster."
   ]
  },
  {
   "cell_type": "code",
   "execution_count": null,
   "metadata": {
    "cell_id": "3e454a642faf43459e67f14e29eb3f5b",
    "deepnote_cell_type": "code",
    "deepnote_to_be_reexecuted": true,
    "execution_millis": 827,
    "execution_start": 1672647956664,
    "source_hash": "d0267e80",
    "tags": []
   },
   "outputs": [],
   "source": [
    "data_jumlah_klaster_ac.plot(kind='pie', y='Cluster', autopct='%1.2f%%')"
   ]
  },
  {
   "cell_type": "markdown",
   "metadata": {
    "cell_id": "6581108b2e0e4484ab677eeb59aaf3c7",
    "deepnote_cell_type": "markdown",
    "tags": []
   },
   "source": [
    "Pie Chart di atas menunjukkan persentase pembagian apartemen pada setiap cluster."
   ]
  },
  {
   "cell_type": "code",
   "execution_count": null,
   "metadata": {
    "cell_id": "447a7ccb27a04edeb535e9daa58b92e5",
    "deepnote_cell_type": "code",
    "deepnote_to_be_reexecuted": true,
    "execution_millis": 107,
    "execution_start": 1672648104549,
    "source_hash": "8e358ef4",
    "tags": []
   },
   "outputs": [],
   "source": [
    "harga_klaster_ac = data_with_clusters_ac.groupby(['Clusters'])['SalePrice'].mean().reset_index()\n",
    "data_harga_klaster_ac = pd.DataFrame(harga_klaster_ac)\n",
    "data_harga_klaster_ac"
   ]
  },
  {
   "cell_type": "code",
   "execution_count": null,
   "metadata": {
    "cell_id": "fbf191e2517e44bba748aba250ed32bf",
    "deepnote_cell_type": "code",
    "deepnote_to_be_reexecuted": true,
    "execution_millis": 23,
    "execution_start": 1672648140509,
    "source_hash": "79895826",
    "tags": []
   },
   "outputs": [],
   "source": [
    "fig = px.bar(\n",
    "    harga_klaster_ac, \n",
    "    x=\"Clusters\", \n",
    "    y=\"SalePrice\", \n",
    "    title=\"Grafik rata-rata harga jual apartemen per cluster\")\n",
    "fig.show()"
   ]
  },
  {
   "cell_type": "markdown",
   "metadata": {
    "cell_id": "2c43293dd4be482fa488dc1e32b3dcd1",
    "deepnote_cell_type": "markdown",
    "tags": []
   },
   "source": [
    "Tabel dan grafik di atas menunjukkan rata-rata harga jual dari kedua cluster."
   ]
  },
  {
   "cell_type": "code",
   "execution_count": null,
   "metadata": {
    "cell_id": "e89bf97530d1461c9b486fdc698cb861",
    "deepnote_cell_type": "code",
    "deepnote_to_be_reexecuted": true,
    "execution_millis": 109,
    "execution_start": 1672648186950,
    "source_hash": "f9225822",
    "tags": []
   },
   "outputs": [],
   "source": [
    "ukuran_klaster_ac = data_with_clusters_ac.groupby(['Clusters'])['Size(sqf)'].mean().reset_index()\n",
    "data_ukuran_klaster_ac = pd.DataFrame(ukuran_klaster_ac)\n",
    "data_ukuran_klaster_ac"
   ]
  },
  {
   "cell_type": "code",
   "execution_count": null,
   "metadata": {
    "cell_id": "899ad69322ba43588ae31cf57d1e4b62",
    "deepnote_cell_type": "code",
    "deepnote_to_be_reexecuted": true,
    "execution_millis": 99,
    "execution_start": 1672648233987,
    "source_hash": "a6f81b97",
    "tags": []
   },
   "outputs": [],
   "source": [
    "fig = px.bar(\n",
    "    ukuran_klaster_ac, \n",
    "    x=\"Clusters\", \n",
    "    y=\"Size(sqf)\", \n",
    "    title=\"Grafik rata-rata ukuran (sqf) apartemen per cluster\")\n",
    "fig.show()"
   ]
  },
  {
   "cell_type": "markdown",
   "metadata": {
    "cell_id": "19d447ad1ca148d688fe5b25e6c90690",
    "deepnote_cell_type": "markdown",
    "tags": []
   },
   "source": [
    "Tabel dan grafik di atas menunjukkan rata-rata ukuran apartemen dari kedua cluster."
   ]
  },
  {
   "cell_type": "code",
   "execution_count": null,
   "metadata": {
    "cell_id": "a6034dfc3cf246b48a21782c511fc609",
    "deepnote_cell_type": "code",
    "deepnote_to_be_reexecuted": true,
    "execution_millis": 163,
    "execution_start": 1672648276861,
    "source_hash": "f35bc17a",
    "tags": []
   },
   "outputs": [],
   "source": [
    "tinggi_klaster_ac = data_with_clusters_ac.groupby(['Clusters'])['Floor'].mean().reset_index()\n",
    "data_tinggi_klaster_ac = pd.DataFrame(tinggi_klaster_ac)\n",
    "data_tinggi_klaster_ac"
   ]
  },
  {
   "cell_type": "code",
   "execution_count": null,
   "metadata": {
    "cell_id": "098aaba01c45499da4a281a52098b47b",
    "deepnote_cell_type": "code",
    "deepnote_to_be_reexecuted": true,
    "execution_millis": 12,
    "execution_start": 1672648300473,
    "source_hash": "a33b235d",
    "tags": []
   },
   "outputs": [],
   "source": [
    "fig = px.bar(\n",
    "    tinggi_klaster_ac, \n",
    "    x=\"Clusters\", \n",
    "    y=\"Floor\", \n",
    "    title=\"Grafik rata-rata jumlah lantai apartemen per cluster\")\n",
    "fig.show()"
   ]
  },
  {
   "cell_type": "markdown",
   "metadata": {
    "cell_id": "37fd11e9bc1b48b49400346fed93bfd6",
    "deepnote_cell_type": "markdown",
    "tags": []
   },
   "source": [
    "Tabel dan grafik di atas menunjukkan rata-rata jumlah lantai apartemen dari kedua cluster."
   ]
  },
  {
   "cell_type": "markdown",
   "metadata": {
    "created_in_deepnote_cell": true,
    "deepnote_cell_type": "markdown",
    "tags": []
   },
   "source": [
    "<a style='text-decoration:none;line-height:16px;display:flex;color:#5B5B62;padding:10px;justify-content:end;' href='https://deepnote.com?utm_source=created-in-deepnote-cell&projectId=455ce48e-6e90-4936-ac85-af3ac4c7c66a' target=\"_blank\">\n",
    "<img alt='Created in deepnote.com' style='display:inline;max-height:16px;margin:0px;margin-right:7.5px;' src='data:image/svg+xml;base64,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' > </img>\n",
    "Created in <span style='font-weight:600;margin-left:4px;'>Deepnote</span></a>"
   ]
  }
 ],
 "metadata": {
  "deepnote": {},
  "deepnote_execution_queue": [],
  "deepnote_notebook_id": "3c7b5ba2863b42968603fd91043acffc",
  "kernelspec": {
   "display_name": "Python 3 (ipykernel)",
   "language": "python",
   "name": "python3"
  },
  "language_info": {
   "codemirror_mode": {
    "name": "ipython",
    "version": 3
   },
   "file_extension": ".py",
   "mimetype": "text/x-python",
   "name": "python",
   "nbconvert_exporter": "python",
   "pygments_lexer": "ipython3",
   "version": "3.11.0"
  }
 },
 "nbformat": 4,
 "nbformat_minor": 1
}
